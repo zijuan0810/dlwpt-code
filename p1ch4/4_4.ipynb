{
 "cells": [
  {
   "cell_type": "code",
   "execution_count": 1,
   "id": "7fcce695",
   "metadata": {},
   "outputs": [],
   "source": [
    "import numpy as np\n",
    "import torch\n",
    "torch.set_printoptions(edgeitems=2, threshold=50, linewidth=100)"
   ]
  },
  {
   "cell_type": "code",
   "execution_count": 3,
   "id": "95f7eba6",
   "metadata": {},
   "outputs": [
    {
     "data": {
      "text/plain": [
       "(tensor([[1.0000e+00, 1.0000e+00,  ..., 1.3000e+01, 1.6000e+01],\n",
       "         [2.0000e+00, 1.0000e+00,  ..., 3.2000e+01, 4.0000e+01],\n",
       "         ...,\n",
       "         [1.7378e+04, 3.1000e+01,  ..., 4.8000e+01, 6.1000e+01],\n",
       "         [1.7379e+04, 3.1000e+01,  ..., 3.7000e+01, 4.9000e+01]]),\n",
       " torch.Size([17520, 17]))"
      ]
     },
     "execution_count": 3,
     "metadata": {},
     "output_type": "execute_result"
    }
   ],
   "source": [
    "bikes_numpy = np.loadtxt(\n",
    "    \"../data/p1ch4/bike-sharing-dataset/hour-fixed.csv\", \n",
    "    dtype=np.float32, \n",
    "    delimiter=\",\", \n",
    "    skiprows=1, \n",
    "    converters={1: lambda x: float(x[8:10])}) # <1>\n",
    "bikes = torch.from_numpy(bikes_numpy)\n",
    "bikes"
   ]
  },
  {
   "cell_type": "markdown",
   "id": "d2b108c3",
   "metadata": {},
   "source": [
    "- `../data/p1ch4/bike-sharing-dataset/hour-fixed.csv`：CSV文件的路径。\n",
    "- `dtype=np.float32`：指定数据类型为`float32`。\n",
    "- `delimiter=\",\"`：指定CSV文件中的分隔符为逗号。\n",
    "- `skiprows=1`：跳过CSV文件的第一行（标题行）。\n",
    "- `converters={1: lambda x: float(x[8:10])}`：定义了一个转换器，用于将第一列的数据进行转换。该转换器是一个lambda函数，将从第一列中的每个元素中提取索引为8到9的子字符串，并将其转换为浮点数。"
   ]
  },
  {
   "cell_type": "code",
   "execution_count": 4,
   "id": "03d1aee9",
   "metadata": {},
   "outputs": [
    {
     "data": {
      "text/plain": [
       "(torch.Size([17520, 17]), (17, 1))"
      ]
     },
     "execution_count": 4,
     "metadata": {},
     "output_type": "execute_result"
    }
   ],
   "source": [
    "bikes.shape, bikes.stride()"
   ]
  },
  {
   "cell_type": "code",
   "execution_count": 5,
   "id": "da26d868",
   "metadata": {},
   "outputs": [
    {
     "data": {
      "text/plain": [
       "(torch.Size([730, 24, 17]), (408, 17, 1))"
      ]
     },
     "execution_count": 5,
     "metadata": {},
     "output_type": "execute_result"
    }
   ],
   "source": [
    "# reshape the data to have 3 axes—day, hour, and then our 17 columns:\n",
    "daily_bikes = bikes.view(-1, 24, bikes.shape[1])\n",
    "daily_bikes.shape, daily_bikes.stride()"
   ]
  },
  {
   "cell_type": "markdown",
   "id": "1062ef45",
   "metadata": {},
   "source": [
    "view(-1, 24, bikes.shape[1])将bikes张量重新构造为一个三维张量，其中第一个维度的大小自动推断，使得每个子张量都具有24列，且列数与原始bikes张量的列数相同。\n",
    "\n",
    "返回的daily_bikes张量的形状为(N, 24, C)，其中N表示自动推断的第一个维度大小，24表示每个子张量的列数，C表示原始bikes张量的列数。"
   ]
  },
  {
   "cell_type": "code",
   "execution_count": 20,
   "id": "456f90d4",
   "metadata": {},
   "outputs": [
    {
     "data": {
      "text/plain": [
       "(torch.Size([730, 17, 24]), (408, 1, 17))"
      ]
     },
     "execution_count": 20,
     "metadata": {},
     "output_type": "execute_result"
    }
   ],
   "source": [
    "# 我们现在有N个序列，每天有L个小时，有C个通道。为了得到我们想要的N × C × L的顺序，我们需要对张量进行转置\n",
    "daily_bikes = daily_bikes.transpose(1, 2)\n",
    "daily_bikes.shape, daily_bikes.stride()"
   ]
  },
  {
   "cell_type": "code",
   "execution_count": null,
   "id": "322d3b59",
   "metadata": {},
   "outputs": [],
   "source": [
    "# 我们初始化一个零填充矩阵，其中行数等于一天中的小时数，列数等于天气级别的数量"
   ]
  },
  {
   "cell_type": "code",
   "execution_count": 21,
   "id": "03e28b3f",
   "metadata": {},
   "outputs": [
    {
     "data": {
      "text/plain": [
       "(tensor([[ 1,  1,  ..., 13, 16],\n",
       "         [ 2,  1,  ..., 32, 40],\n",
       "         ...,\n",
       "         [23,  1,  ..., 17, 28],\n",
       "         [24,  1,  ..., 24, 39]]),\n",
       " torch.Size([24, 17]),\n",
       " tensor([1, 1, 1, 1, 1, 2, 1, 1, 1, 1, 1, 1, 1, 2, 2, 2, 2, 2, 3, 3, 2, 2, 2, 2]))"
      ]
     },
     "execution_count": 21,
     "metadata": {},
     "output_type": "execute_result"
    }
   ],
   "source": [
    "first_day = bikes[:24].long()\n",
    "weather_onehot = torch.zeros(first_day.shape[0], 4)\n",
    "first_day, first_day.shape, first_day[:,9]"
   ]
  },
  {
   "cell_type": "markdown",
   "id": "6f3c9d40",
   "metadata": {},
   "source": [
    "然后我们根据每一行对应的级别将它们分散到矩阵中。还记得我们在前几节中使用unsqueeze来添加一个单例维度吗? 将数值减1，因为天气情况的范围从1到4，而指数是以0为基础的"
   ]
  },
  {
   "cell_type": "code",
   "execution_count": 22,
   "id": "07be5295",
   "metadata": {},
   "outputs": [
    {
     "data": {
      "text/plain": [
       "tensor([[1., 0., 0., 0.],\n",
       "        [1., 0., 0., 0.],\n",
       "        ...,\n",
       "        [0., 1., 0., 0.],\n",
       "        [0., 1., 0., 0.]])"
      ]
     },
     "execution_count": 22,
     "metadata": {},
     "output_type": "execute_result"
    }
   ],
   "source": [
    "weather_onehot.scatter_(\n",
    "    dim=1,\n",
    "    index=first_day[:,9].unsqueeze(1).long() - 1,\n",
    "    value=1.0)"
   ]
  },
  {
   "cell_type": "code",
   "execution_count": 23,
   "id": "30826097",
   "metadata": {},
   "outputs": [
    {
     "data": {
      "text/plain": [
       "tensor([[ 1.0000,  1.0000,  1.0000,  0.0000,  1.0000,  0.0000,  0.0000,  6.0000,  0.0000,  1.0000,\n",
       "          0.2400,  0.2879,  0.8100,  0.0000,  3.0000, 13.0000, 16.0000,  1.0000,  0.0000,  0.0000,\n",
       "          0.0000]])"
      ]
     },
     "execution_count": 23,
     "metadata": {},
     "output_type": "execute_result"
    }
   ],
   "source": [
    "torch.cat((bikes[:24], weather_onehot), 1)[:1]"
   ]
  },
  {
   "cell_type": "markdown",
   "id": "80b760f9",
   "metadata": {},
   "source": [
    "将上面的推广到整个数据集中"
   ]
  },
  {
   "cell_type": "code",
   "execution_count": 24,
   "id": "f87a8b3e",
   "metadata": {},
   "outputs": [
    {
     "data": {
      "text/plain": [
       "torch.Size([730, 4, 24])"
      ]
     },
     "execution_count": 24,
     "metadata": {},
     "output_type": "execute_result"
    }
   ],
   "source": [
    "daily_weather_onehot = torch.zeros(daily_bikes.shape[0], 4, daily_bikes.shape[2])\n",
    "daily_weather_onehot.shape"
   ]
  },
  {
   "cell_type": "code",
   "execution_count": 25,
   "id": "fe70b233",
   "metadata": {},
   "outputs": [
    {
     "data": {
      "text/plain": [
       "torch.Size([730, 4, 24])"
      ]
     },
     "execution_count": 25,
     "metadata": {},
     "output_type": "execute_result"
    }
   ],
   "source": [
    "daily_weather_onehot.scatter_(dim=1, index=daily_bikes[:,9,:].long().unsqueeze(1) - 1, value=1.0)\n",
    "daily_weather_onehot.shape"
   ]
  },
  {
   "cell_type": "code",
   "execution_count": 27,
   "id": "a3517a5b",
   "metadata": {},
   "outputs": [],
   "source": [
    "daily_bikes = torch.cat((daily_bikes, daily_weather_onehot), dim=1)"
   ]
  },
  {
   "cell_type": "code",
   "execution_count": 28,
   "id": "199821f9",
   "metadata": {},
   "outputs": [
    {
     "data": {
      "text/plain": [
       "(tensor([[[1.0000e+00, 2.0000e+00,  ..., 2.3000e+01, 2.4000e+01],\n",
       "          [1.0000e+00, 1.0000e+00,  ..., 1.0000e+00, 1.0000e+00],\n",
       "          ...,\n",
       "          [0.0000e+00, 0.0000e+00,  ..., 0.0000e+00, 0.0000e+00],\n",
       "          [0.0000e+00, 0.0000e+00,  ..., 0.0000e+00, 0.0000e+00]],\n",
       " \n",
       "         [[2.5000e+01, 2.6000e+01,  ..., 4.6000e+01, 4.7000e+01],\n",
       "          [2.0000e+00, 2.0000e+00,  ..., 2.0000e+00, 2.0000e+00],\n",
       "          ...,\n",
       "          [0.0000e+00, 0.0000e+00,  ..., 0.0000e+00, 0.0000e+00],\n",
       "          [0.0000e+00, 0.0000e+00,  ..., 0.0000e+00, 0.0000e+00]],\n",
       " \n",
       "         ...,\n",
       " \n",
       "         [[1.7332e+04, 1.7333e+04,  ..., 1.7354e+04, 1.7355e+04],\n",
       "          [3.0000e+01, 3.0000e+01,  ..., 3.0000e+01, 3.0000e+01],\n",
       "          ...,\n",
       "          [0.0000e+00, 0.0000e+00,  ..., 0.0000e+00, 0.0000e+00],\n",
       "          [0.0000e+00, 0.0000e+00,  ..., 0.0000e+00, 0.0000e+00]],\n",
       " \n",
       "         [[1.7356e+04, 1.7357e+04,  ..., 1.7378e+04, 1.7379e+04],\n",
       "          [3.1000e+01, 3.1000e+01,  ..., 3.1000e+01, 3.1000e+01],\n",
       "          ...,\n",
       "          [0.0000e+00, 0.0000e+00,  ..., 0.0000e+00, 0.0000e+00],\n",
       "          [0.0000e+00, 0.0000e+00,  ..., 0.0000e+00, 0.0000e+00]]]),\n",
       " torch.Size([730, 21, 24]))"
      ]
     },
     "execution_count": 28,
     "metadata": {},
     "output_type": "execute_result"
    }
   ],
   "source": [
    "daily_bikes, daily_bikes.shape"
   ]
  },
  {
   "cell_type": "code",
   "execution_count": 29,
   "id": "b1ee5841",
   "metadata": {},
   "outputs": [
    {
     "data": {
      "text/plain": [
       "tensor([[[1.0000e+00, 2.0000e+00,  ..., 2.3000e+01, 2.4000e+01],\n",
       "         [1.0000e+00, 1.0000e+00,  ..., 1.0000e+00, 1.0000e+00],\n",
       "         ...,\n",
       "         [0.0000e+00, 0.0000e+00,  ..., 0.0000e+00, 0.0000e+00],\n",
       "         [0.0000e+00, 0.0000e+00,  ..., 0.0000e+00, 0.0000e+00]],\n",
       "\n",
       "        [[2.5000e+01, 2.6000e+01,  ..., 4.6000e+01, 4.7000e+01],\n",
       "         [2.0000e+00, 2.0000e+00,  ..., 2.0000e+00, 2.0000e+00],\n",
       "         ...,\n",
       "         [0.0000e+00, 0.0000e+00,  ..., 0.0000e+00, 0.0000e+00],\n",
       "         [0.0000e+00, 0.0000e+00,  ..., 0.0000e+00, 0.0000e+00]],\n",
       "\n",
       "        ...,\n",
       "\n",
       "        [[1.7332e+04, 1.7333e+04,  ..., 1.7354e+04, 1.7355e+04],\n",
       "         [3.0000e+01, 3.0000e+01,  ..., 3.0000e+01, 3.0000e+01],\n",
       "         ...,\n",
       "         [0.0000e+00, 0.0000e+00,  ..., 0.0000e+00, 0.0000e+00],\n",
       "         [0.0000e+00, 0.0000e+00,  ..., 0.0000e+00, 0.0000e+00]],\n",
       "\n",
       "        [[1.7356e+04, 1.7357e+04,  ..., 1.7378e+04, 1.7379e+04],\n",
       "         [3.1000e+01, 3.1000e+01,  ..., 3.1000e+01, 3.1000e+01],\n",
       "         ...,\n",
       "         [0.0000e+00, 0.0000e+00,  ..., 0.0000e+00, 0.0000e+00],\n",
       "         [0.0000e+00, 0.0000e+00,  ..., 0.0000e+00, 0.0000e+00]]])"
      ]
     },
     "execution_count": 29,
     "metadata": {},
     "output_type": "execute_result"
    }
   ],
   "source": [
    "daily_bikes[:, 9, :] = (daily_bikes[:, 9, :] - 1.0) / 3.0\n",
    "daily_bikes"
   ]
  },
  {
   "cell_type": "code",
   "execution_count": 35,
   "id": "af75f15b",
   "metadata": {},
   "outputs": [
    {
     "data": {
      "text/plain": [
       "(torch.Size([730, 21, 24]),\n",
       " tensor([[0.2245, 0.2041,  ..., 0.3878, 0.4490],\n",
       "         [0.4490, 0.4286,  ..., 0.2245, 0.2041],\n",
       "         ...,\n",
       "         [0.2449, 0.2449,  ..., 0.1837, 0.1837],\n",
       "         [0.1633, 0.1633,  ..., 0.2449, 0.2449]]),\n",
       " torch.Size([730, 24]))"
      ]
     },
     "execution_count": 35,
     "metadata": {},
     "output_type": "execute_result"
    }
   ],
   "source": [
    "# 取出daily_bikes中的所有行（:），第10个位置的列（10），以及所有的列（:）。\n",
    "#通过这个操作，您得到了一个名为temp的新张量，其形状为(N, C)，其中N表示daily_bikes的行数，C表示daily_bikes的列数。\n",
    "temp = daily_bikes[:, 10, :]\n",
    "daily_bikes.shape, temp, temp.shape"
   ]
  },
  {
   "cell_type": "code",
   "execution_count": 36,
   "id": "093c0e7f",
   "metadata": {},
   "outputs": [
    {
     "data": {
      "text/plain": [
       "(tensor(0.), tensor(1.))"
      ]
     },
     "execution_count": 36,
     "metadata": {},
     "output_type": "execute_result"
    }
   ],
   "source": [
    "temp_min = torch.min(temp)\n",
    "temp_max = torch.max(temp)\n",
    "temp_min, temp_max"
   ]
  },
  {
   "cell_type": "code",
   "execution_count": 43,
   "id": "2939872a",
   "metadata": {},
   "outputs": [
    {
     "data": {
      "text/plain": [
       "tensor([[[1.0000e+00, 2.0000e+00,  ..., 2.3000e+01, 2.4000e+01],\n",
       "         [1.0000e+00, 1.0000e+00,  ..., 1.0000e+00, 1.0000e+00],\n",
       "         ...,\n",
       "         [0.0000e+00, 0.0000e+00,  ..., 0.0000e+00, 0.0000e+00],\n",
       "         [0.0000e+00, 0.0000e+00,  ..., 0.0000e+00, 0.0000e+00]],\n",
       "\n",
       "        [[2.5000e+01, 2.6000e+01,  ..., 4.6000e+01, 4.7000e+01],\n",
       "         [2.0000e+00, 2.0000e+00,  ..., 2.0000e+00, 2.0000e+00],\n",
       "         ...,\n",
       "         [0.0000e+00, 0.0000e+00,  ..., 0.0000e+00, 0.0000e+00],\n",
       "         [0.0000e+00, 0.0000e+00,  ..., 0.0000e+00, 0.0000e+00]],\n",
       "\n",
       "        ...,\n",
       "\n",
       "        [[1.7332e+04, 1.7333e+04,  ..., 1.7354e+04, 1.7355e+04],\n",
       "         [3.0000e+01, 3.0000e+01,  ..., 3.0000e+01, 3.0000e+01],\n",
       "         ...,\n",
       "         [0.0000e+00, 0.0000e+00,  ..., 0.0000e+00, 0.0000e+00],\n",
       "         [0.0000e+00, 0.0000e+00,  ..., 0.0000e+00, 0.0000e+00]],\n",
       "\n",
       "        [[1.7356e+04, 1.7357e+04,  ..., 1.7378e+04, 1.7379e+04],\n",
       "         [3.1000e+01, 3.1000e+01,  ..., 3.1000e+01, 3.1000e+01],\n",
       "         ...,\n",
       "         [0.0000e+00, 0.0000e+00,  ..., 0.0000e+00, 0.0000e+00],\n",
       "         [0.0000e+00, 0.0000e+00,  ..., 0.0000e+00, 0.0000e+00]]])"
      ]
     },
     "execution_count": 43,
     "metadata": {},
     "output_type": "execute_result"
    }
   ],
   "source": [
    "daily_bikes[:, 10, :] = ((daily_bikes[:, 10, :] - temp_min) / (temp_max - temp_min))\n",
    "daily_bikes"
   ]
  },
  {
   "cell_type": "code",
   "execution_count": 42,
   "id": "4b3ce698",
   "metadata": {},
   "outputs": [
    {
     "data": {
      "text/plain": [
       "tensor([[-1.3213, -1.4248,  ..., -0.4932, -0.1827],\n",
       "        [-0.1827, -0.2862,  ..., -1.3213, -1.4248],\n",
       "        ...,\n",
       "        [-1.2178, -1.2178,  ..., -1.5284, -1.5284],\n",
       "        [-1.6319, -1.6319,  ..., -1.2178, -1.2178]])"
      ]
     },
     "execution_count": 42,
     "metadata": {},
     "output_type": "execute_result"
    }
   ],
   "source": [
    "# 也可以或者减去平均值，然后除以标准差\n",
    "temp = daily_bikes[:, 10, :]\n",
    "temp_mean = torch.mean(temp)\n",
    "temp_std = torch.std(temp)\n",
    "daily_bikes[:, 10, :] = (temp - temp_mean) / temp_std\n",
    "daily_bikes[:, 10, :]"
   ]
  },
  {
   "cell_type": "code",
   "execution_count": null,
   "id": "a6f1603f",
   "metadata": {},
   "outputs": [],
   "source": []
  },
  {
   "cell_type": "code",
   "execution_count": null,
   "id": "d2b2df0f",
   "metadata": {},
   "outputs": [],
   "source": []
  },
  {
   "cell_type": "code",
   "execution_count": null,
   "id": "2b28d933",
   "metadata": {},
   "outputs": [],
   "source": []
  }
 ],
 "metadata": {
  "kernelspec": {
   "display_name": "Python (dlwpt)",
   "language": "python",
   "name": "dl"
  },
  "language_info": {
   "codemirror_mode": {
    "name": "ipython",
    "version": 3
   },
   "file_extension": ".py",
   "mimetype": "text/x-python",
   "name": "python",
   "nbconvert_exporter": "python",
   "pygments_lexer": "ipython3",
   "version": "3.8.16"
  }
 },
 "nbformat": 4,
 "nbformat_minor": 5
}
