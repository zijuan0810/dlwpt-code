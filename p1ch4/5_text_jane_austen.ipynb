{
 "cells": [
  {
   "cell_type": "code",
   "execution_count": 3,
   "metadata": {
    "ExecuteTime": {
     "end_time": "2023-06-07T02:06:54.115378Z",
     "start_time": "2023-06-07T02:06:54.101189Z"
    }
   },
   "outputs": [],
   "source": [
    "import numpy as np\n",
    "import torch\n",
    "torch.set_printoptions(edgeitems=2, threshold=50, precision=6, linewidth=80, sci_mode=False)"
   ]
  },
  {
   "cell_type": "code",
   "execution_count": 4,
   "metadata": {
    "ExecuteTime": {
     "end_time": "2023-06-07T02:06:55.163458500Z",
     "start_time": "2023-06-07T02:06:55.147898300Z"
    }
   },
   "outputs": [],
   "source": [
    "# 读取原始文本内容\n",
    "with open('../data/p1ch4/jane-austen/1342-0.txt', encoding='utf8') as f:\n",
    "    text = f.read()"
   ]
  },
  {
   "cell_type": "code",
   "execution_count": 5,
   "metadata": {
    "ExecuteTime": {
     "end_time": "2023-06-07T02:06:57.957838200Z",
     "start_time": "2023-06-07T02:06:57.935162100Z"
    }
   },
   "outputs": [
    {
     "data": {
      "text/plain": "'“Impossible, Mr. Bennet, impossible, when I am not acquainted with him'"
     },
     "execution_count": 5,
     "metadata": {},
     "output_type": "execute_result"
    }
   ],
   "source": [
    "# 打印查看一下文本内容\n",
    "lines = text.split('\\n')\n",
    "line = lines[200]\n",
    "line"
   ]
  },
  {
   "cell_type": "code",
   "execution_count": 6,
   "metadata": {
    "ExecuteTime": {
     "end_time": "2023-06-07T02:07:02.379051600Z",
     "start_time": "2023-06-07T02:07:02.358259300Z"
    }
   },
   "outputs": [
    {
     "data": {
      "text/plain": "torch.Size([70, 128])"
     },
     "execution_count": 6,
     "metadata": {},
     "output_type": "execute_result"
    }
   ],
   "source": [
    "# 这里128是硬编码，由于ASSII码的总长度为128\n",
    "letter_t = torch.zeros(len(line), 128) # <1>\n",
    "letter_t.shape"
   ]
  },
  {
   "cell_type": "code",
   "execution_count": 7,
   "metadata": {
    "ExecuteTime": {
     "end_time": "2023-06-07T02:07:07.004341900Z",
     "start_time": "2023-06-07T02:07:06.987632100Z"
    }
   },
   "outputs": [],
   "source": [
    "# 文本使用了双引号，不是有效的ASSII码，这里将其筛选出来\n",
    "for i, letter in enumerate(line.lower().strip()):\n",
    "    letter_index = ord(letter) if ord(letter) < 128 else 0  # <1>\n",
    "    letter_t[i][letter_index] = 1"
   ]
  },
  {
   "cell_type": "code",
   "execution_count": 8,
   "outputs": [
    {
     "data": {
      "text/plain": "tensor([[1., 0.,  ..., 0., 0.],\n        [0., 0.,  ..., 0., 0.],\n        ...,\n        [0., 0.,  ..., 0., 0.],\n        [0., 0.,  ..., 0., 0.]])"
     },
     "execution_count": 8,
     "metadata": {},
     "output_type": "execute_result"
    }
   ],
   "source": [
    "letter_t"
   ],
   "metadata": {
    "collapsed": false,
    "ExecuteTime": {
     "end_time": "2023-06-07T02:07:07.989509400Z",
     "start_time": "2023-06-07T02:07:07.971976700Z"
    }
   }
  },
  {
   "cell_type": "code",
   "execution_count": 9,
   "metadata": {
    "ExecuteTime": {
     "end_time": "2023-06-07T02:07:22.528101500Z",
     "start_time": "2023-06-07T02:07:22.517497700Z"
    }
   },
   "outputs": [
    {
     "data": {
      "text/plain": "('“Impossible, Mr. Bennet, impossible, when I am not acquainted with him',\n ['impossible',\n  'mr',\n  'bennet',\n  'impossible',\n  'when',\n  'i',\n  'am',\n  'not',\n  'acquainted',\n  'with',\n  'him'])"
     },
     "execution_count": 9,
     "metadata": {},
     "output_type": "execute_result"
    }
   ],
   "source": [
    "# 删除标点符合，返回一个单词列表\n",
    "def clean_words(input_str):\n",
    "    punctuation = '.,;:\"!?”“_-'\n",
    "    word_list = input_str.lower().replace('\\n',' ').split()\n",
    "    word_list = [word.strip(punctuation) for word in word_list]\n",
    "    return word_list\n",
    "\n",
    "words_in_line = clean_words(line)\n",
    "line, words_in_line"
   ]
  },
  {
   "cell_type": "code",
   "execution_count": 11,
   "outputs": [
    {
     "data": {
      "text/plain": "(['',\n  '#1342]',\n  '$5,000)',\n  \"'_she\",\n  \"'after\",\n  \"'ah\",\n  \"'as-is'\",\n  \"'bingley\",\n  \"'had\",\n  \"'having\",\n  \"'i\",\n  \"'keep\",\n  \"'lady\",\n  \"'lately\",\n  \"'lydia\",\n  \"'mr\",\n  \"'my\",\n  \"'oh\",\n  \"'s\",\n  \"'this\",\n  \"'tis\",\n  \"'violently\",\n  \"'yes,'\",\n  \"'you\",\n  '($1',\n  '(801)',\n  '(a)',\n  '(an',\n  '(and',\n  '(any',\n  '(available',\n  '(b)',\n  '(by',\n  '(c)',\n  '(comparatively',\n  '(does',\n  '(for',\n  '(glancing',\n  '(if',\n  '(lady',\n  '(like',\n  '(most',\n  '(my',\n  '(or',\n  '(trademark/copyright)',\n  '(unasked',\n  '(what',\n  '(who',\n  '(www.gutenberg.org)',\n  '(“the',\n  '*',\n  '***',\n  '*****',\n  '1',\n  '1.a',\n  '1.b',\n  '1.c',\n  '1.d',\n  '1.e',\n  '1.e.1',\n  '1.e.2',\n  '1.e.3',\n  '1.e.4',\n  '1.e.5',\n  '1.e.6',\n  '1.e.7',\n  '1.e.8',\n  '1.e.9',\n  '1.f',\n  '1.f.1',\n  '1.f.2',\n  '1.f.3',\n  '1.f.4',\n  '1.f.5',\n  '1.f.6',\n  '10',\n  '11',\n  '12',\n  '13',\n  '1342-0.txt',\n  '1342-0.zip',\n  '14',\n  '15',\n  '1500',\n  '15th',\n  '16',\n  '17',\n  '18',\n  '18th',\n  '19',\n  '1998',\n  '2',\n  '20',\n  '20%',\n  '2001',\n  '2008',\n  '2018',\n  '21',\n  '22',\n  '23',\n  '24',\n  '25',\n  '26',\n  '26th',\n  '27',\n  '28',\n  '29',\n  '3',\n  '30',\n  '31',\n  '32',\n  '33',\n  '34',\n  '35',\n  '36',\n  '37',\n  '38',\n  '39',\n  '4',\n  '40',\n  '41',\n  '42',\n  '43',\n  '44',\n  '45',\n  '4557',\n  '46',\n  '47',\n  '48',\n  '49',\n  '5',\n  '50',\n  '501(c)(3)',\n  '51',\n  '52',\n  '53',\n  '54',\n  '55',\n  '56',\n  '57',\n  '58',\n  '59',\n  '596-1887',\n  '6',\n  '60',\n  '61',\n  '64-6221541',\n  '7',\n  '8',\n  '809',\n  '84116',\n  '9',\n  '90',\n  '99712',\n  '[ebook',\n  'a',\n  'a-shooting',\n  'abatement',\n  'abhorrence',\n  'abhorrent',\n  'abide',\n  'abiding',\n  'abilities',\n  'able',\n  'ablution',\n  'abode',\n  'abominable',\n  'abominably',\n  'abominate',\n  'abound',\n  'about',\n  'above',\n  'abroad',\n  'abrupt',\n  'abruptly',\n  'abruptness',\n  'absence',\n  'absent',\n  'absolute',\n  'absolutely',\n  'absurd',\n  'absurdities',\n  'absurdity',\n  'abundant',\n  'abundantly',\n  'abuse',\n  'abused',\n  'abusing',\n  'abusive',\n  'accede',\n  'acceded',\n  'acceding',\n  'accent',\n  'accents',\n  'accept',\n  'acceptable',\n  'acceptance',\n  'accepted',\n  'accepting',\n  'access',\n  'accessed',\n  'accessible',\n  'accident',\n  'accidental',\n  'accidentally',\n  'accompanied',\n  'accompany',\n  'accompanying',\n  'accomplished',\n  'accomplished!--she',\n  'accomplishment',\n  'accomplishments',\n  'accordance',\n  'according',\n  'accordingly',\n  'accosted',\n  'account',\n  'accounted',\n  'accounting',\n  'accounts',\n  'accuracy',\n  'accurate',\n  'accusation',\n  'accusations',\n  'accuse',\n  'accused',\n  'accusing',\n  'accustomed',\n  'ached',\n  'achieving',\n  'acknowledge',\n  'acknowledged',\n  'acknowledging',\n  'acknowledgment',\n  'acknowledgments',\n  'acquaint',\n  'acquaintance',\n  'acquaintance--an',\n  'acquaintances',\n  'acquainted',\n  'acquainting',\n  'acquiesce',\n  'acquiescence',\n  'acquire',\n  'acquired',\n  'acquisition',\n  'acquit',\n  'acrimony',\n  'across',\n  'act',\n  'acted',\n  'acting',\n  'action',\n  'actions',\n  'actions--may',\n  'active',\n  'activity',\n  'actual',\n  'actually',\n  'actuated',\n  'acute',\n  'acutely',\n  'acutest',\n  'adapted',\n  'add',\n  'added',\n  'adding',\n  'addition',\n  'additional',\n  'additions',\n  'address',\n  'addressed',\n  'addresses',\n  'addressing',\n  'adds',\n  'adept',\n  'adequate',\n  'adhered',\n  'adhering',\n  'adieu',\n  'adieus',\n  'adjusting',\n  'admirable',\n  'admiration',\n  'admire',\n  'admired',\n  'admirer',\n  'admires',\n  'admiring',\n  'admission',\n  'admit',\n  'admittance',\n  'admitted',\n  'admitting',\n  'adopt',\n  'adopted',\n  'adoration',\n  'adorned',\n  'advance',\n  'advanced',\n  'advancement',\n  'advances',\n  'advantage',\n  'advantageous',\n  'advantageously',\n  'advantages',\n  'adventure',\n  'advertised',\n  'advice',\n  'advisable',\n  'advise',\n  'advised',\n  'advising',\n  'affability',\n  'affable',\n  'affair',\n  'affairs',\n  'affect',\n  'affectation',\n  'affected',\n  'affection',\n  'affectionate',\n  'affectionately',\n  'affections',\n  'affinity',\n  'affirmative',\n  'afflicted',\n  'afflicting',\n  'affliction',\n  'afford',\n  'afforded',\n  'affording',\n  'affords',\n  'affront',\n  'affronted',\n  'afraid',\n  'afresh',\n  'after',\n  'after--the',\n  'afternoon',\n  'afterwards',\n  'again',\n  'against',\n  'age',\n  'agent',\n  'agitated',\n  'agitation',\n  'agitations',\n  'ago',\n  'agonies',\n  'agony',\n  'agree',\n  'agreeable',\n  'agreeable--allowing',\n  'agreeable-looking',\n  'agreeably',\n  'agreed',\n  'agreeing',\n  'agreement',\n  'ah',\n  'aid',\n  'aimed',\n  'air',\n  'airing',\n  'airs',\n  'ak',\n  'alacrity',\n  'alarm',\n  'alarmed',\n  'alarming',\n  'alarms',\n  'alas',\n  'alienated',\n  'alighted',\n  'alike',\n  'alive',\n  'all',\n  'all--all',\n  'all--and',\n  'allayed',\n  'alleviate',\n  'alleviated',\n  'alliance',\n  'allow',\n  'allow--and',\n  'allowable',\n  'allowance',\n  'allowances',\n  'allowed',\n  'allowing',\n  'allude',\n  'alluded',\n  'alluding',\n  'allurements',\n  'allusion',\n  'allusions',\n  'almost',\n  'alone',\n  'along',\n  'aloof',\n  'aloud',\n  'already',\n  'also',\n  'altar',\n  'alter',\n  'alteration',\n  'alterations',\n  'altered',\n  'altered--what',\n  'alternate',\n  'alternative',\n  'although',\n  'altogether',\n  'altogether--mr',\n  'always',\n  'am',\n  'am--and',\n  'amaze',\n  'amazed',\n  'amazement',\n  'amazes',\n  'amazing',\n  'amazing!--but',\n  'ambition',\n  'amendment',\n  'amends',\n  'amends--but',\n  'amends--of',\n  'amiable',\n  'amiable)',\n  'amiable”--but',\n  'amid',\n  'amidst',\n  'amiss',\n  'among',\n  'amongst',\n  'amount',\n  'amounting',\n  'ample',\n  'amply',\n  'amuse',\n  'amused',\n  'amusement',\n  'amusements',\n  'amusing',\n  'an',\n  'ancient--though',\n  'and',\n  'anecdote',\n  'anecdotes',\n  'anew',\n  'angel',\n  'angelic',\n  'anger',\n  'angrily',\n  'angry',\n  'anguish',\n  'animal',\n  'animated',\n  'animating',\n  'animation',\n  'ankle',\n  'ankles',\n  'anne',\n  \"anne's\",\n  'annesley',\n  'annexed',\n  'announce',\n  'announced',\n  'annoyed',\n  'annual',\n  'annum',\n  'anonymous',\n  'another',\n  'answer',\n  'answer--but',\n  'answerable',\n  'answered',\n  'answering',\n  'answers',\n  'antagonist',\n  'ante-chamber',\n  'anticipate',\n  'anticipated',\n  'anticipating',\n  'anticipation',\n  'anxiety',\n  'anxious',\n  'anxiously',\n  'any',\n  'any)',\n  'anybody',\n  \"anybody's\",\n  'anyhow',\n  'anyone',\n  'anything',\n  'anywhere',\n  'apace',\n  'apartment',\n  'apartments',\n  'apologies',\n  'apologise',\n  'apologised',\n  'apologising',\n  'apology',\n  'apothecary',\n  'apparel',\n  'apparent',\n  'apparently',\n  'appeal',\n  'appeals',\n  'appear',\n  'appearance',\n  'appearances',\n  'appeared',\n  'appearing',\n  'appears',\n  'appease',\n  'appeased',\n  'appertain',\n  'appetite',\n  'applicable',\n  'application',\n  'applied',\n  'applies',\n  'apply',\n  'applying',\n  'appointed',\n  'appointment',\n  'apprehended',\n  'apprehending',\n  'apprehension',\n  'apprehensions',\n  'apprehensive',\n  'approach',\n  'approached',\n  'approaching',\n  'approbation',\n  'approve',\n  'approved',\n  'april',\n  'apt',\n  'arch',\n  'archbishop',\n  'archive',\n  'archly',\n  'archness',\n  'ardent',\n  'ardently',\n  'are',\n  'are)',\n  'argued',\n  'arguing',\n  'argument',\n  'arguments',\n  'arise',\n  'arisen',\n  'arising',\n  'arm',\n  'arm-in-arm',\n  'army',\n  'arose',\n  'around',\n  'aroused',\n  'arrange',\n  'arranged',\n  'arrangement',\n  'arrangements',\n  'arranges',\n  'arranging',\n  'array',\n  'arrear',\n  'arrested',\n  'arrival',\n  'arrive',\n  'arrived',\n  'arrived--that',\n  'arriving',\n  'arrogance',\n  'arrogant',\n  'art',\n  'artful',\n  'artfully',\n  'article',\n  'articles',\n  'artificial',\n  'arts',\n  'as',\n  'ascended',\n  'ascertain',\n  'ascertaining',\n  'ascii',\n  'ashamed',\n  'ashworth',\n  'aside',\n  'ask',\n  'asked',\n  'asking',\n  'aspect',\n  'asperity',\n  'aspire',\n  'assembled',\n  'assemblies',\n  'assembly',\n  'assent',\n  'assented',\n  'assents',\n  'assert',\n  'asserted',\n  'asserting',\n  'assertion',\n  'assertions',\n  'assiduous',\n  'assiduously',\n  'assist',\n  'assistance',\n  'assistant',\n  'assisted',\n  'assisting',\n  'associated',\n  'associated)',\n  'associating',\n  'assume',\n  'assumed',\n  'assurance',\n  'assurances',\n  'assure',\n  'assured',\n  'assuring',\n  'astonish',\n  'astonish--and',\n  'astonished',\n  'astonishment',\n  'at',\n  'ate',\n  'atone',\n  'atoned',\n  'atonement',\n  'atonement--for',\n  'attach',\n  'attached',\n  'attachment',\n  'attachments',\n  'attack',\n  'attacked',\n  'attacks',\n  'attained',\n  'attempt',\n  'attempted',\n  'attempting',\n  'attend',\n  'attendance',\n  'attendant',\n  'attendants',\n  'attended',\n  'attending',\n  'attention',\n  'attentions',\n  'attentive',\n  'attentively',\n  'attics',\n  'attitude',\n  'attorney',\n  'attracted',\n  'attraction',\n  'attractions',\n  'attribute',\n  'attributed',\n  'attributing',\n  'audible',\n  'audience',\n  'aught',\n  'augment',\n  'augmented',\n  'august',\n  'aunt',\n  \"aunt's\",\n  'aunts',\n  'austen',\n  'austerity',\n  'author',\n  'authorise',\n  'authorised',\n  'authorising',\n  'authoritative',\n  'authority',\n  'authorized',\n  'avail',\n  'available',\n  'availed',\n  'avarice',\n  'avenue',\n  'avoid',\n  'avoidance',\n  'avoided',\n  'avoiding',\n  'avowal',\n  'avowed',\n  'awaited',\n  'awake',\n  'awakened',\n  'aware',\n  'away',\n  'away--you',\n  'awe',\n  'awed',\n  'awful',\n  'awkward',\n  'awkwardness',\n  'awoke',\n  'aye',\n  'aye--because',\n  'aye--that',\n  'b',\n  'back',\n  'backed',\n  'backgammon',\n  'backward',\n  'backwards',\n  'bad',\n  'bad--belongs',\n  'bakewell',\n  'ball',\n  'ball--and',\n  'ball-room',\n  'balls',\n  'balm',\n  'bandbox',\n  'banish',\n  'banished',\n  'banks',\n  'barbarous',\n  'barbarously',\n  'bare',\n  'barefaced',\n  'barely',\n  'barnet',\n  'barouche-box',\n  'based',\n  'bashful',\n  'basis',\n  'bath',\n  'bathing-place',\n  'battled',\n  'be',\n  'be!--engaged',\n  'be--but',\n  'bear',\n  'bearing',\n  'bears',\n  'beatings',\n  'beauteous',\n  'beauties',\n  'beautiful',\n  'beauty',\n  'beauty!--i',\n  'beaux',\n  'became',\n  'because',\n  'become',\n  'becomes',\n  'becoming',\n  'bed',\n  'bedrooms',\n  'been',\n  'befall',\n  'before',\n  'before)',\n  'beforehand',\n  'befriended',\n  'beg',\n  'began',\n  'begged',\n  'begging',\n  'begin',\n  'beginning',\n  'beginning--from',\n  'begins',\n  'begins--but',\n  'begs',\n  'begun',\n  'behalf',\n  'behave',\n  'behaved',\n  'behaves',\n  'behaviour',\n  'beheld',\n  'behind',\n  'beholding',\n  'being',\n  'belief',\n  'believe',\n  'believed',\n  'believes',\n  'believing',\n  'bell',\n  'bell--i',\n  'belong',\n  'belonged',\n  'belonging',\n  'belongs',\n  'beloved',\n  'below',\n  'benches',\n  'beneath',\n  'beneficence',\n  'beneficial',\n  'benefit',\n  'benefited',\n  'benefiting',\n  'benefits',\n  'benevolence',\n  'benevolent',\n  'bennet',\n  \"bennet's\",\n  \"bennet,'\",\n  \"bennet.'--my\",\n  'bennets',\n  'bent',\n  'bequeathed',\n  'bequest',\n  'besides',\n  'best',\n  'bestow',\n  'bestow!--how',\n  'bestowed',\n  'bestowing',\n  'betray',\n  'betrayed',\n  'bets',\n  'better',\n  'between',\n  'bewailed',\n  'bewildered',\n  'bewitched',\n  'bewitching',\n  'beyond',\n  'bid',\n  'bidding',\n  'billiard-table',\n  'bills',\n  'binary',\n  'bingley',\n  \"bingley's\",\n  'bingley)',\n  'bingleys',\n  \"bingleys'\",\n  'birds',\n  'birmingham',\n  'birth',\n  'bit',\n  'biting',\n  'bitter',\n  'bitterest',\n  'bitterly',\n  'bitterness',\n  'black',\n  'blacken',\n  'blame',\n  'blameable',\n  'blamed',\n  'blameless',\n  'blamelessness',\n  'blaming',\n  'blasted',\n  'blemish',\n  'blenheim',\n  'bless',\n  'blessed',\n  'blessing',\n  'blind',\n  'blinded',\n  'blinds',\n  'blots',\n  'blow',\n  'blown',\n  'blowsy',\n  'blue',\n  'blush',\n  'blushed',\n  'blushing',\n  'board',\n  'boast',\n  'boasted',\n  'boasting',\n  'bodies',\n  'body',\n  'boisterously',\n  'bold',\n  'boldly',\n  'bonnet',\n  'book',\n  'book-room',\n  'books',\n  'books--oh',\n  'bordered',\n  'bordering',\n  'bore',\n  'born',\n  'borne',\n  'borrow',\n  'borrowed',\n  'bosom',\n  'bosoms',\n  'both',\n  'bottle',\n  'bottom',\n  'bought',\n  'boulanger',\n  'bound',\n  'boundary',\n  'boundless',\n  'bounds',\n  'bounty',\n  'bourgh',\n  \"bourgh's\",\n  'bourgh--the',\n  'bow',\n  'bowed',\n  'bowing',\n  'bowl',\n  'bows',\n  'boxes',\n  'boy',\n  'boys',\n  'bracelets',\n  'brain',\n  'brains',\n  'branch',\n  'breach',\n  'break',\n  'breakfast',\n  'breakfast-parlour',\n  'breakfast-room',\n  'breakfasted',\n  'breaking',\n  'breast',\n  'breath',\n  'breathed',\n  'breathing',\n  'breathless',\n  'breeding',\n  'brevity',\n  'bribe',\n  'bribery',\n  'bride',\n  'bridegroom',\n  'bridge',\n  'briefly',\n  'bright',\n  'brightened',\n  'brightening',\n  'brightest',\n  'brighton',\n  'brilliancy',\n  'bring',\n  'bring--good',\n  'bringing',\n  'brings',\n  'brink',\n  'britain',\n  'british',\n  'brittle',\n  'broad-faced',\n  'broke',\n  'broken',\n  'bromley',\n  'brooking',\n  'brother',\n  \"brother's\",\n  'brother--very',\n  'brother-in-law',\n  \"brother-in-law's\",\n  'brotherly',\n  'brothers',\n  'brought',\n  'brow',\n  'brown',\n  'build',\n  'building',\n  'built',\n  'burning',\n  'burnt',\n  'burst',\n  'burying',\n  'busily',\n  'business',\n  'business@pglaf.org',\n  'bustle',\n  'busy',\n  'but',\n  'but--good',\n  \"butcher's\",\n  'butler',\n  'buy',\n  'buying',\n  'by',\n  'bye',\n  'cake',\n  'calculate',\n  ...],\n 7261)"
     },
     "execution_count": 11,
     "metadata": {},
     "output_type": "execute_result"
    }
   ],
   "source": [
    "word_list = sorted(set(clean_words(text)))\n",
    "word_list, len(word_list)"
   ],
   "metadata": {
    "collapsed": false,
    "ExecuteTime": {
     "end_time": "2023-06-07T02:08:32.843647500Z",
     "start_time": "2023-06-07T02:08:32.796751400Z"
    }
   }
  },
  {
   "cell_type": "code",
   "execution_count": 13,
   "metadata": {
    "ExecuteTime": {
     "end_time": "2023-06-07T02:09:01.965544Z",
     "start_time": "2023-06-07T02:09:01.953540400Z"
    }
   },
   "outputs": [
    {
     "data": {
      "text/plain": "(7261, 3394)"
     },
     "execution_count": 13,
     "metadata": {},
     "output_type": "execute_result"
    }
   ],
   "source": [
    "word2index_dict = {word: i for (i, word) in enumerate(word_list)}\n",
    "\n",
    "len(word2index_dict), word2index_dict['impossible']"
   ]
  },
  {
   "cell_type": "code",
   "execution_count": 8,
   "metadata": {},
   "outputs": [
    {
     "name": "stdout",
     "output_type": "stream",
     "text": [
      " 0 3394 impossible\n",
      " 1 4305 mr\n",
      " 2  813 bennet\n",
      " 3 3394 impossible\n",
      " 4 7078 when\n",
      " 5 3315 i\n",
      " 6  415 am\n",
      " 7 4436 not\n",
      " 8  239 acquainted\n",
      " 9 7148 with\n",
      "10 3215 him\n",
      "torch.Size([11, 7261])\n"
     ]
    }
   ],
   "source": [
    "word_t = torch.zeros(len(words_in_line), len(word2index_dict))\n",
    "for i, word in enumerate(words_in_line):\n",
    "    word_index = word2index_dict[word]\n",
    "    word_t[i][word_index] = 1\n",
    "    print('{:2} {:4} {}'.format(i, word_index, word))\n",
    "    \n",
    "print(word_t.shape)\n"
   ]
  },
  {
   "cell_type": "code",
   "execution_count": 9,
   "metadata": {},
   "outputs": [
    {
     "data": {
      "text/plain": [
       "torch.Size([11, 1, 7261])"
      ]
     },
     "execution_count": 9,
     "metadata": {},
     "output_type": "execute_result"
    }
   ],
   "source": [
    "word_t = word_t.unsqueeze(1)\n",
    "word_t.shape"
   ]
  },
  {
   "cell_type": "code",
   "execution_count": 10,
   "metadata": {},
   "outputs": [
    {
     "data": {
      "text/plain": [
       "[('\\n', 10),\n",
       " (' ', 32),\n",
       " ('!', 33),\n",
       " ('#', 35),\n",
       " ('$', 36),\n",
       " ('%', 37),\n",
       " (\"'\", 39),\n",
       " ('(', 40),\n",
       " (')', 41),\n",
       " ('*', 42),\n",
       " (',', 44),\n",
       " ('-', 45),\n",
       " ('.', 46),\n",
       " ('/', 47),\n",
       " ('0', 48),\n",
       " ('1', 49),\n",
       " ('2', 50),\n",
       " ('3', 51),\n",
       " ('4', 52),\n",
       " ('5', 53),\n",
       " ('6', 54),\n",
       " ('7', 55),\n",
       " ('8', 56),\n",
       " ('9', 57),\n",
       " (':', 58),\n",
       " (';', 59),\n",
       " ('?', 63),\n",
       " ('@', 64),\n",
       " ('A', 65),\n",
       " ('B', 66),\n",
       " ('C', 67),\n",
       " ('D', 68),\n",
       " ('E', 69),\n",
       " ('F', 70),\n",
       " ('G', 71),\n",
       " ('H', 72),\n",
       " ('I', 73),\n",
       " ('J', 74),\n",
       " ('K', 75),\n",
       " ('L', 76),\n",
       " ('M', 77),\n",
       " ('N', 78),\n",
       " ('O', 79),\n",
       " ('P', 80),\n",
       " ('Q', 81),\n",
       " ('R', 82),\n",
       " ('S', 83),\n",
       " ('T', 84),\n",
       " ('U', 85),\n",
       " ('V', 86),\n",
       " ('W', 87),\n",
       " ('X', 88),\n",
       " ('Y', 89),\n",
       " ('Z', 90),\n",
       " ('[', 91),\n",
       " (']', 93),\n",
       " ('_', 95),\n",
       " ('a', 97),\n",
       " ('b', 98),\n",
       " ('c', 99),\n",
       " ('d', 100),\n",
       " ('e', 101),\n",
       " ('f', 102),\n",
       " ('g', 103),\n",
       " ('h', 104),\n",
       " ('i', 105),\n",
       " ('j', 106),\n",
       " ('k', 107),\n",
       " ('l', 108),\n",
       " ('m', 109),\n",
       " ('n', 110),\n",
       " ('o', 111),\n",
       " ('p', 112),\n",
       " ('q', 113),\n",
       " ('r', 114),\n",
       " ('s', 115),\n",
       " ('t', 116),\n",
       " ('u', 117),\n",
       " ('v', 118),\n",
       " ('w', 119),\n",
       " ('x', 120),\n",
       " ('y', 121),\n",
       " ('z', 122),\n",
       " ('“', 8220),\n",
       " ('”', 8221),\n",
       " ('\\ufeff', 65279)]"
      ]
     },
     "execution_count": 10,
     "metadata": {},
     "output_type": "execute_result"
    }
   ],
   "source": [
    "[(c, ord(c)) for c in sorted(set(text))]\n"
   ]
  },
  {
   "cell_type": "code",
   "execution_count": 11,
   "metadata": {},
   "outputs": [
    {
     "data": {
      "text/plain": [
       "108"
      ]
     },
     "execution_count": 11,
     "metadata": {},
     "output_type": "execute_result"
    }
   ],
   "source": [
    "ord('l')"
   ]
  },
  {
   "cell_type": "markdown",
   "source": [
    "#### torch.squeeze(A，N)"
   ],
   "metadata": {
    "collapsed": false
   }
  },
  {
   "cell_type": "markdown",
   "source": [
    "torch.unsqueeze()函数的作用减少数组A指定位置N的维度，如果不指定位置参数N，那么将删除所有维度为1的维度。\n",
    "如果数组A的维度为（1，1，3）那么执行 torch.squeeze(A，1) 后A的维度变为 （1，3），中间的维度被删除\n",
    "\n",
    "注：\n",
    "1. 如果指定的维度大于1，那么将操作无效\n",
    "2. 如果不指定维度N，那么将删除所有维度为1的维度"
   ],
   "metadata": {
    "collapsed": false
   }
  },
  {
   "cell_type": "code",
   "execution_count": 33,
   "outputs": [
    {
     "name": "stdout",
     "output_type": "stream",
     "text": [
      "a.shape                 torch.Size([1, 2, 3])\n",
      "torch.squeeze(a)        torch.Size([2, 3])\n",
      "torch.squeeze(a, 0)     torch.Size([2, 3])\n",
      "torch.squeeze(a, 1)     torch.Size([1, 2, 3])\n",
      "torch.squeeze(a, 2)     torch.Size([1, 2, 3])\n"
     ]
    }
   ],
   "source": [
    "a = torch.randn(1, 2, 3)\n",
    "print(f'a.shape                 {a.shape}')\n",
    "print(f'torch.squeeze(a)        {torch.squeeze(a).shape}')\n",
    "print(f'torch.squeeze(a, 0)     {torch.squeeze(a, 0).shape}')\n",
    "print(f'torch.squeeze(a, 1)     {torch.squeeze(a, 1).shape}')\n",
    "print(f'torch.squeeze(a, 2)     {torch.squeeze(a, 2).shape}')\n"
   ],
   "metadata": {
    "collapsed": false,
    "ExecuteTime": {
     "end_time": "2023-06-07T02:33:58.948797100Z",
     "start_time": "2023-06-07T02:33:58.937658500Z"
    }
   }
  },
  {
   "cell_type": "markdown",
   "source": [
    "#### torch.unsqueeze(A，N)"
   ],
   "metadata": {
    "collapsed": false
   }
  },
  {
   "cell_type": "markdown",
   "source": [
    "torch.unsqueeze()函数的作用增加数组A指定位置N的维度，例如两行三列的数组A维度为(2，3)，那么这个数组就有三个位置可以增加维度，\n",
    "分别是（ [位置0] 2，[位置1] 3 [位置2] ）或者是 （ [位置-3] 2，[位置-2] 3 [位置-1] ），\n",
    "如果执行 torch.unsqueeze(A，1)，数据的维度就变为了 （2，1，3）"
   ],
   "metadata": {
    "collapsed": false
   }
  },
  {
   "cell_type": "code",
   "execution_count": 38,
   "outputs": [
    {
     "name": "stdout",
     "output_type": "stream",
     "text": [
      "a.shape                   torch.Size([2, 3])\n",
      "torch.unsqueeze(a, 0)     torch.Size([1, 2, 3])\n",
      "torch.unsqueeze(a, 1)     torch.Size([2, 1, 3])\n",
      "torch.unsqueeze(a, 2)     torch.Size([2, 3, 1])\n"
     ]
    }
   ],
   "source": [
    "a = torch.randn(2, 3)\n",
    "print(f'a.shape                   {a.shape}')\n",
    "print(f'torch.unsqueeze(a, 0)     {torch.unsqueeze(a, 0).shape}')\n",
    "print(f'torch.unsqueeze(a, 1)     {torch.unsqueeze(a, 1).shape}')\n",
    "print(f'torch.unsqueeze(a, 2)     {torch.unsqueeze(a, 2).shape}')"
   ],
   "metadata": {
    "collapsed": false,
    "ExecuteTime": {
     "end_time": "2023-06-07T02:40:08.075497100Z",
     "start_time": "2023-06-07T02:40:08.059742700Z"
    }
   }
  },
  {
   "cell_type": "code",
   "execution_count": null,
   "outputs": [],
   "source": [],
   "metadata": {
    "collapsed": false
   }
  }
 ],
 "metadata": {
  "kernelspec": {
   "display_name": "Python 3",
   "language": "python",
   "name": "python3"
  },
  "language_info": {
   "codemirror_mode": {
    "name": "ipython",
    "version": 3
   },
   "file_extension": ".py",
   "mimetype": "text/x-python",
   "name": "python",
   "nbconvert_exporter": "python",
   "pygments_lexer": "ipython3",
   "version": "3.6.6"
  },
  "pycharm": {
   "stem_cell": {
    "cell_type": "raw",
    "source": [],
    "metadata": {
     "collapsed": false
    }
   }
  }
 },
 "nbformat": 4,
 "nbformat_minor": 2
}
