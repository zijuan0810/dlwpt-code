{
 "cells": [
  {
   "cell_type": "code",
   "execution_count": null,
   "metadata": {
    "collapsed": true
   },
   "outputs": [],
   "source": [
    "import torch\n",
    "import numpy as np\n",
    "import gradio as gr\n",
    "torch.set_printoptions(edgeitems=2, precision=6, linewidth=75, sci_mode=False)"
   ]
  },
  {
   "cell_type": "markdown",
   "source": [
    "#### Blocks Structure"
   ],
   "metadata": {
    "collapsed": false
   }
  },
  {
   "cell_type": "code",
   "execution_count": null,
   "outputs": [],
   "source": [
    "def greet(name):\n",
    "    return \"Hello, \" + name + \"!\"\n",
    "\n",
    "with gr.Blocks() as demo:\n",
    "    name = gr.Textbox(label=\"Name\")\n",
    "    outputs = gr.Textbox(label=\"Output Box\")\n",
    "    greet_btn = gr.Button(\"Greet\")\n",
    "    greet_btn.click(fn=greet, inputs=name, outputs=outputs, api_name=\"greet\")\n",
    "\n",
    "demo.queue()\n",
    "demo.launch()"
   ],
   "metadata": {
    "collapsed": false
   }
  },
  {
   "cell_type": "markdown",
   "source": [
    "#### Types of Event Listeners"
   ],
   "metadata": {
    "collapsed": false
   }
  },
  {
   "cell_type": "code",
   "execution_count": null,
   "outputs": [],
   "source": [],
   "metadata": {
    "collapsed": false
   }
  },
  {
   "cell_type": "code",
   "execution_count": null,
   "outputs": [],
   "source": [
    "def welcome_func(name):\n",
    "    return f'Welcome to Gradio, {name}!'\n",
    "\n",
    "with gr.Blocks() as demo:\n",
    "    gr.Markdown(\n",
    "        \"\"\"\n",
    "        # Hello World!\n",
    "        Start typing bellow to the output.\n",
    "        \"\"\"\n",
    "    )\n",
    "    inputs = gr.Textbox(placeholder=\"What's your name?\")\n",
    "    outputs = gr.Textbox()\n",
    "    inputs.change(welcome_func, inputs=inputs, outputs=outputs)\n",
    "\n",
    "demo.launch()"
   ],
   "metadata": {
    "collapsed": false
   }
  },
  {
   "cell_type": "markdown",
   "source": [
    "#### Multiple Data Flows"
   ],
   "metadata": {
    "collapsed": false
   }
  },
  {
   "cell_type": "code",
   "execution_count": null,
   "outputs": [],
   "source": [
    "def increase_func(a, b):\n",
    "    return f\"{a} {b}\"\n",
    "\n",
    "with gr.Blocks() as demo:\n",
    "    a = gr.Number(label=\"a\")\n",
    "    b = gr.Number(label=\"b\")\n",
    "    b2a = gr.Button(\"a > b\")\n",
    "    a2b = gr.Button(\"b > a\")\n",
    "    b2a.click(increase_func, a, b)\n",
    "    a2b.click(increase_func, b, a)\n",
    "\n",
    "demo.launch()"
   ],
   "metadata": {
    "collapsed": false
   }
  },
  {
   "cell_type": "code",
   "execution_count": null,
   "outputs": [],
   "source": [],
   "metadata": {
    "collapsed": false
   }
  },
  {
   "cell_type": "markdown",
   "source": [
    "#### Function Input List vs Dict"
   ],
   "metadata": {
    "collapsed": false
   }
  },
  {
   "cell_type": "code",
   "execution_count": null,
   "outputs": [],
   "source": [
    "with gr.Blocks() as demo:\n",
    "    a = gr.Number(label=\"a\")\n",
    "    b = gr.Number(label=\"b\")\n",
    "    with gr.Row():\n",
    "        add_btn = gr.Button(\"Add\")\n",
    "        sub_btn = gr.Button(\"Subtract\")\n",
    "    c = gr.Number(label=\"sum\")\n",
    "\n",
    "    def add_func(num1, num2):\n",
    "        return num1 + num2\n",
    "\n",
    "    def sub_func(data):\n",
    "        print(type(data))\n",
    "        return data[a] - data[b]\n",
    "\n",
    "    add_btn.click(add_func, inputs=[a, b], outputs=c)\n",
    "    sub_btn.click(sub_func, inputs={a, b}, outputs=c)\n",
    "demo.launch()"
   ],
   "metadata": {
    "collapsed": false
   }
  },
  {
   "cell_type": "markdown",
   "source": [
    "#### Function Return List vs Dict"
   ],
   "metadata": {
    "collapsed": false
   }
  },
  {
   "cell_type": "code",
   "execution_count": null,
   "outputs": [],
   "source": [
    "with gr.Blocks() as demo:\n",
    "    food_box = gr.Number(value=10, label=\"Food Count\")\n",
    "    status_box = gr.Textbox()\n",
    "\n",
    "    def eat_func(food):\n",
    "        if food > 0:\n",
    "            return food - 1, \"full\"\n",
    "        return 0, \"hungry\"\n",
    "\n",
    "    gr.Button(\"Eat\").click(eat_func, inputs=food_box, outputs=[food_box, status_box])\n",
    "\n",
    "demo.launch()"
   ],
   "metadata": {
    "collapsed": false
   }
  },
  {
   "cell_type": "markdown",
   "source": [
    "#### Updating Component Configurations"
   ],
   "metadata": {
    "collapsed": false
   }
  },
  {
   "cell_type": "code",
   "execution_count": null,
   "outputs": [],
   "source": [
    "def change_textbox_func(choice):\n",
    "    if choice == \"short\":\n",
    "        return gr.update(lines=2, visible=True, value=\"Short story: \")\n",
    "    elif choice == \"long\":\n",
    "        return gr.update(lines=8, visible=True, value=\"Long story: \")\n",
    "    else:\n",
    "        return gr.update(visible=False)\n",
    "\n",
    "with gr.Blocks() as demo:\n",
    "    radio = gr.Radio([\"short\", \"long\", \"node\"], label=\"Essay Length to write?\")\n",
    "    text = gr.Textbox(lines=2, interactive=True)\n",
    "    radio.change(fn=change_textbox_func, inputs=radio, outputs=text)\n",
    "\n",
    "demo.launch()"
   ],
   "metadata": {
    "collapsed": false
   }
  },
  {
   "cell_type": "code",
   "execution_count": null,
   "outputs": [],
   "source": [],
   "metadata": {
    "collapsed": false
   }
  },
  {
   "cell_type": "markdown",
   "source": [],
   "metadata": {
    "collapsed": false
   }
  },
  {
   "cell_type": "markdown",
   "source": [],
   "metadata": {
    "collapsed": false
   }
  }
 ],
 "metadata": {
  "kernelspec": {
   "display_name": "Python 3",
   "language": "python",
   "name": "python3"
  },
  "language_info": {
   "codemirror_mode": {
    "name": "ipython",
    "version": 2
   },
   "file_extension": ".py",
   "mimetype": "text/x-python",
   "name": "python",
   "nbconvert_exporter": "python",
   "pygments_lexer": "ipython2",
   "version": "2.7.6"
  }
 },
 "nbformat": 4,
 "nbformat_minor": 0
}
