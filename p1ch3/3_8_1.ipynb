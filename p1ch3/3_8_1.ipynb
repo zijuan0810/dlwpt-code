{
 "cells": [
  {
   "cell_type": "code",
   "execution_count": 1,
   "id": "f1a7cb35",
   "metadata": {},
   "outputs": [],
   "source": [
    "import torch"
   ]
  },
  {
   "cell_type": "code",
   "execution_count": 10,
   "id": "04520d7e",
   "metadata": {},
   "outputs": [
    {
     "data": {
      "text/plain": [
       "(tensor([[4., 1.],\n",
       "         [5., 3.],\n",
       "         [2., 1.]]),\n",
       " (2, 1))"
      ]
     },
     "execution_count": 10,
     "metadata": {},
     "output_type": "execute_result"
    }
   ],
   "source": [
    "points = torch.tensor([[4.0, 1.0], [5.0, 3.0], [2.0, 1.0]])\n",
    "points, points.stride()"
   ]
  },
  {
   "cell_type": "code",
   "execution_count": 5,
   "id": "cf1fcf0e",
   "metadata": {},
   "outputs": [
    {
     "data": {
      "text/plain": [
       "(tensor([5., 3.]), 2)"
      ]
     },
     "execution_count": 5,
     "metadata": {},
     "output_type": "execute_result"
    }
   ],
   "source": [
    "second_point = points[1]\n",
    "second_point, second_point.storage_offset()"
   ]
  },
  {
   "cell_type": "code",
   "execution_count": 13,
   "id": "ae649d64",
   "metadata": {},
   "outputs": [
    {
     "data": {
      "text/plain": [
       "(tensor([[[ 0,  1,  2,  3],\n",
       "          [ 4,  5,  6,  7],\n",
       "          [ 8,  9, 10, 11]],\n",
       " \n",
       "         [[12, 13, 14, 15],\n",
       "          [16, 17, 18, 19],\n",
       "          [20, 21, 22, 23]]]),\n",
       " (12, 4, 1))"
      ]
     },
     "execution_count": 13,
     "metadata": {},
     "output_type": "execute_result"
    }
   ],
   "source": [
    "pt2 = torch.tensor(list(range(24))).view(2,3,4)\n",
    "pt2,pt2.stride()"
   ]
  },
  {
   "cell_type": "code",
   "execution_count": 9,
   "id": "0fe3dc38",
   "metadata": {},
   "outputs": [
    {
     "data": {
      "text/plain": [
       "(tensor([ 8,  9, 10, 11]), 8, torch.Size([4]), torch.Size([4]))"
      ]
     },
     "execution_count": 9,
     "metadata": {},
     "output_type": "execute_result"
    }
   ],
   "source": [
    "s1 = pt2[2]\n",
    "s1, s1.storage_offset(), s1.size(), s1.shape"
   ]
  },
  {
   "cell_type": "code",
   "execution_count": 19,
   "id": "99450f78",
   "metadata": {},
   "outputs": [
    {
     "data": {
      "text/plain": [
       "(tensor([[0, 1, 2],\n",
       "         [3, 4, 5]]),\n",
       " tensor([[0, 3],\n",
       "         [1, 4],\n",
       "         [2, 5]]),\n",
       " True)"
      ]
     },
     "execution_count": 19,
     "metadata": {},
     "output_type": "execute_result"
    }
   ],
   "source": [
    "pt3 = torch.tensor(list(range(2*3))).view(2,3)\n",
    "pt3_t = pt3.t()\n",
    "pt3, pt3_t, id(pt3.storage()) == id(pt3_t.storage())"
   ]
  },
  {
   "cell_type": "code",
   "execution_count": 24,
   "id": "38e7137c",
   "metadata": {},
   "outputs": [
    {
     "data": {
      "text/plain": [
       "(tensor([[[ 0,  1,  2,  3],\n",
       "          [ 4,  5,  6,  7],\n",
       "          [ 8,  9, 10, 11]],\n",
       " \n",
       "         [[12, 13, 14, 15],\n",
       "          [16, 17, 18, 19],\n",
       "          [20, 21, 22, 23]]]),\n",
       " torch.Size([2, 3, 4]))"
      ]
     },
     "execution_count": 24,
     "metadata": {},
     "output_type": "execute_result"
    }
   ],
   "source": [
    "pt4 = torch.tensor(list(range(2*3*4))).view(2,3,4)\n",
    "pt4, pt4.shape"
   ]
  },
  {
   "cell_type": "code",
   "execution_count": 25,
   "id": "cdf5960f",
   "metadata": {},
   "outputs": [
    {
     "data": {
      "text/plain": [
       "(tensor([[[ 0, 12],\n",
       "          [ 4, 16],\n",
       "          [ 8, 20]],\n",
       " \n",
       "         [[ 1, 13],\n",
       "          [ 5, 17],\n",
       "          [ 9, 21]],\n",
       " \n",
       "         [[ 2, 14],\n",
       "          [ 6, 18],\n",
       "          [10, 22]],\n",
       " \n",
       "         [[ 3, 15],\n",
       "          [ 7, 19],\n",
       "          [11, 23]]]),\n",
       " torch.Size([4, 3, 2]))"
      ]
     },
     "execution_count": 25,
     "metadata": {},
     "output_type": "execute_result"
    }
   ],
   "source": [
    "transpose_t = pt4.transpose(0, 2)\n",
    "transpose_t, transpose_t.shape"
   ]
  },
  {
   "cell_type": "code",
   "execution_count": 26,
   "id": "da3fe83e",
   "metadata": {},
   "outputs": [
    {
     "data": {
      "text/plain": [
       "(True, False)"
      ]
     },
     "execution_count": 26,
     "metadata": {},
     "output_type": "execute_result"
    }
   ],
   "source": [
    "pt4.is_contiguous(), transpose_t.is_contiguous()"
   ]
  },
  {
   "cell_type": "code",
   "execution_count": 29,
   "id": "003f547e",
   "metadata": {},
   "outputs": [
    {
     "data": {
      "text/plain": [
       "tensor([[4., 1.],\n",
       "        [5., 3.],\n",
       "        [2., 1.]], device='cuda:0')"
      ]
     },
     "execution_count": 29,
     "metadata": {},
     "output_type": "execute_result"
    }
   ],
   "source": [
    "points_gpu = torch.tensor([[4.0, 1.0], [5.0, 3.0], [2.0, 1.0]], device='cuda')\n",
    "points_gpu"
   ]
  },
  {
   "cell_type": "code",
   "execution_count": 35,
   "id": "e50cf252",
   "metadata": {},
   "outputs": [
    {
     "data": {
      "text/plain": [
       "(tensor([[1., 1., 1., 1.],\n",
       "         [1., 1., 1., 1.],\n",
       "         [1., 1., 1., 1.]]),\n",
       " array([[1., 1., 1., 1.],\n",
       "        [1., 1., 1., 1.],\n",
       "        [1., 1., 1., 1.]], dtype=float32))"
      ]
     },
     "execution_count": 35,
     "metadata": {},
     "output_type": "execute_result"
    }
   ],
   "source": [
    "points = torch.ones(3, 4)\n",
    "points_np = points.numpy()\n",
    "points, points_np,\n"
   ]
  },
  {
   "cell_type": "code",
   "execution_count": 36,
   "id": "682dd322",
   "metadata": {},
   "outputs": [
    {
     "data": {
      "text/plain": [
       "(2411626731136, 2411669971856)"
      ]
     },
     "execution_count": 36,
     "metadata": {},
     "output_type": "execute_result"
    }
   ],
   "source": [
    "id(points),id(points_np)"
   ]
  },
  {
   "cell_type": "code",
   "execution_count": null,
   "id": "d7fa5f8a",
   "metadata": {},
   "outputs": [],
   "source": []
  },
  {
   "cell_type": "code",
   "execution_count": null,
   "id": "41479a1c",
   "metadata": {},
   "outputs": [],
   "source": []
  },
  {
   "cell_type": "code",
   "execution_count": null,
   "id": "b90d1cb0",
   "metadata": {},
   "outputs": [],
   "source": []
  },
  {
   "cell_type": "code",
   "execution_count": null,
   "id": "2da35aee",
   "metadata": {},
   "outputs": [],
   "source": []
  },
  {
   "cell_type": "code",
   "execution_count": null,
   "id": "51cfe297",
   "metadata": {},
   "outputs": [],
   "source": []
  }
 ],
 "metadata": {
  "kernelspec": {
   "display_name": "Python (dlwpt)",
   "language": "python",
   "name": "dl"
  },
  "language_info": {
   "codemirror_mode": {
    "name": "ipython",
    "version": 3
   },
   "file_extension": ".py",
   "mimetype": "text/x-python",
   "name": "python",
   "nbconvert_exporter": "python",
   "pygments_lexer": "ipython3",
   "version": "3.8.15"
  }
 },
 "nbformat": 4,
 "nbformat_minor": 5
}
