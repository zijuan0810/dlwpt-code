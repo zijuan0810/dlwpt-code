{
 "cells": [
  {
   "cell_type": "markdown",
   "source": [
    "### Fine-tuning a model with the Trainer API"
   ],
   "metadata": {
    "collapsed": false
   }
  },
  {
   "cell_type": "markdown",
   "source": [
    "Transformer提供了一个Trainer类来帮助您微调它在数据集上提供的任何预训练模型。一旦完成了上一节中的所有数据预处理工作，就只剩下几个步骤来定义Trainer了。\n",
    "最困难的部分可能是准备运行Trainer.train()的环境，因为它在CPU上运行得非常慢。\n",
    "下面的代码示例假设您已经执行了前一节中的示例。以下是你需要的一个简短的总结:"
   ],
   "metadata": {
    "collapsed": false
   }
  },
  {
   "cell_type": "code",
   "execution_count": 1,
   "outputs": [],
   "source": [
    "import torch\n",
    "import numpy as np\n",
    "torch.set_printoptions(edgeitems=2, precision=2, linewidth=75)"
   ],
   "metadata": {
    "collapsed": false,
    "ExecuteTime": {
     "end_time": "2023-05-31T05:39:23.147196700Z",
     "start_time": "2023-05-31T05:39:21.233017700Z"
    }
   }
  },
  {
   "cell_type": "code",
   "execution_count": 2,
   "outputs": [
    {
     "name": "stderr",
     "output_type": "stream",
     "text": [
      "Found cached dataset glue (C:/Users/Jager/.cache/huggingface/datasets/glue/mrpc/1.0.0/dacbe3125aa31d7f70367a07a8a9e72a5a0bfeb5fc42e75c9db75b96da6053ad)\n"
     ]
    },
    {
     "data": {
      "text/plain": "  0%|          | 0/3 [00:00<?, ?it/s]",
      "application/vnd.jupyter.widget-view+json": {
       "version_major": 2,
       "version_minor": 0,
       "model_id": "1f4d4fa333f14a739505d28fa7a53769"
      }
     },
     "metadata": {},
     "output_type": "display_data"
    },
    {
     "name": "stderr",
     "output_type": "stream",
     "text": [
      "Loading cached processed dataset at C:\\Users\\Jager\\.cache\\huggingface\\datasets\\glue\\mrpc\\1.0.0\\dacbe3125aa31d7f70367a07a8a9e72a5a0bfeb5fc42e75c9db75b96da6053ad\\cache-5137f2fb4737d116.arrow\n",
      "Loading cached processed dataset at C:\\Users\\Jager\\.cache\\huggingface\\datasets\\glue\\mrpc\\1.0.0\\dacbe3125aa31d7f70367a07a8a9e72a5a0bfeb5fc42e75c9db75b96da6053ad\\cache-60ba0ce5ca5c6a38.arrow\n",
      "Loading cached processed dataset at C:\\Users\\Jager\\.cache\\huggingface\\datasets\\glue\\mrpc\\1.0.0\\dacbe3125aa31d7f70367a07a8a9e72a5a0bfeb5fc42e75c9db75b96da6053ad\\cache-b26904918f30dd5d.arrow\n"
     ]
    }
   ],
   "source": [
    "from datasets import load_dataset\n",
    "from transformers import AutoTokenizer, DataCollatorWithPadding\n",
    "\n",
    "raw_datasets = load_dataset(\"glue\", \"mrpc\")\n",
    "checkpoint = \"bert-base-uncased\"\n",
    "tokenizer = AutoTokenizer.from_pretrained(checkpoint)\n",
    "\n",
    "\n",
    "def tokenize_function(example):\n",
    "    return tokenizer(example[\"sentence1\"], example[\"sentence2\"], truncation=True)\n",
    "\n",
    "\n",
    "tokenized_datasets = raw_datasets.map(tokenize_function, batched=True)\n",
    "data_collator = DataCollatorWithPadding(tokenizer=tokenizer)"
   ],
   "metadata": {
    "collapsed": false,
    "ExecuteTime": {
     "end_time": "2023-05-31T05:40:23.155084Z",
     "start_time": "2023-05-31T05:40:13.556086800Z"
    }
   }
  },
  {
   "cell_type": "code",
   "execution_count": 3,
   "outputs": [
    {
     "data": {
      "text/plain": "DataCollatorWithPadding(tokenizer=BertTokenizerFast(name_or_path='bert-base-uncased', vocab_size=30522, model_max_length=512, is_fast=True, padding_side='right', truncation_side='right', special_tokens={'unk_token': '[UNK]', 'sep_token': '[SEP]', 'pad_token': '[PAD]', 'cls_token': '[CLS]', 'mask_token': '[MASK]'}, clean_up_tokenization_spaces=True), padding=True, max_length=None, pad_to_multiple_of=None, return_tensors='pt')"
     },
     "execution_count": 3,
     "metadata": {},
     "output_type": "execute_result"
    }
   ],
   "source": [
    "data_collator"
   ],
   "metadata": {
    "collapsed": false,
    "ExecuteTime": {
     "end_time": "2023-05-31T05:40:35.449464500Z",
     "start_time": "2023-05-31T05:40:35.419168200Z"
    }
   }
  },
  {
   "cell_type": "markdown",
   "source": [
    "#### Training"
   ],
   "metadata": {
    "collapsed": false
   }
  },
  {
   "cell_type": "markdown",
   "source": [
    "定义训练器之前的第一步是定义一个TrainingArguments类，该类将包含Trainer用于训练和评估的所有超参数。您必须提供的唯一参数是保存经过训练的模型的目录，以及checkpoints。对于其他所有选项，您可以保留默认值，这对于基本的微调应该非常有效。"
   ],
   "metadata": {
    "collapsed": false
   }
  },
  {
   "cell_type": "code",
   "execution_count": 4,
   "outputs": [],
   "source": [
    "from transformers import TrainingArguments\n",
    "\n",
    "training_args = TrainingArguments(\"./test-trainer\")"
   ],
   "metadata": {
    "collapsed": false,
    "ExecuteTime": {
     "end_time": "2023-05-31T05:46:47.170780100Z",
     "start_time": "2023-05-31T05:46:47.010360300Z"
    }
   }
  },
  {
   "cell_type": "markdown",
   "source": [
    "第二步是定义我们的模型。和前一章一样，我们将使用AutoModelForSequenceClassification类，带有两个标签:"
   ],
   "metadata": {
    "collapsed": false
   }
  },
  {
   "cell_type": "code",
   "execution_count": 5,
   "outputs": [
    {
     "name": "stderr",
     "output_type": "stream",
     "text": [
      "Some weights of the model checkpoint at bert-base-uncased were not used when initializing BertForSequenceClassification: ['cls.predictions.transform.LayerNorm.weight', 'cls.seq_relationship.weight', 'cls.predictions.transform.dense.weight', 'cls.predictions.bias', 'cls.predictions.decoder.weight', 'cls.seq_relationship.bias', 'cls.predictions.transform.dense.bias', 'cls.predictions.transform.LayerNorm.bias']\n",
      "- This IS expected if you are initializing BertForSequenceClassification from the checkpoint of a model trained on another task or with another architecture (e.g. initializing a BertForSequenceClassification model from a BertForPreTraining model).\n",
      "- This IS NOT expected if you are initializing BertForSequenceClassification from the checkpoint of a model that you expect to be exactly identical (initializing a BertForSequenceClassification model from a BertForSequenceClassification model).\n",
      "Some weights of BertForSequenceClassification were not initialized from the model checkpoint at bert-base-uncased and are newly initialized: ['classifier.bias', 'classifier.weight']\n",
      "You should probably TRAIN this model on a down-stream task to be able to use it for predictions and inference.\n"
     ]
    }
   ],
   "source": [
    "from transformers import AutoModelForSequenceClassification\n",
    "\n",
    "model = AutoModelForSequenceClassification.from_pretrained(checkpoint, num_labels=2)"
   ],
   "metadata": {
    "collapsed": false,
    "ExecuteTime": {
     "end_time": "2023-05-31T05:47:19.805968500Z",
     "start_time": "2023-05-31T05:47:18.020043400Z"
    }
   }
  },
  {
   "cell_type": "markdown",
   "source": [
    "你会注意到，与第2章不同的是，在实例化这个预训练模型之后，你会得到一个警告。这是因为BERT没有对句子对分类进行预训练，所以预训练模型的头部被丢弃，取而代之的是一个适合序列分类的新头部。警告表明一些权重没有被使用(那些对应于丢失的预训练头的权重)，而其他一些权重是随机初始化的(那些针对新头的权重)。它的结论是鼓励你训练模型，这正是我们现在要做的。"
   ],
   "metadata": {
    "collapsed": false
   }
  },
  {
   "cell_type": "markdown",
   "source": [
    "一旦我们有了模型，我们可以构造一个Trainer对象："
   ],
   "metadata": {
    "collapsed": false
   }
  },
  {
   "cell_type": "code",
   "execution_count": 7,
   "outputs": [],
   "source": [
    "from transformers import Trainer\n",
    "\n",
    "trainer = Trainer(model,\n",
    "                  training_args,\n",
    "                  train_dataset=tokenized_datasets[\"train\"],\n",
    "                  eval_dataset=tokenized_datasets[\"validation\"],\n",
    "                  data_collator=data_collator,\n",
    "                  tokenizer=tokenizer)"
   ],
   "metadata": {
    "collapsed": false,
    "ExecuteTime": {
     "end_time": "2023-05-31T05:48:59.708797100Z",
     "start_time": "2023-05-31T05:48:59.682747600Z"
    }
   }
  },
  {
   "cell_type": "markdown",
   "source": [
    "注意，当您像这里一样传递tokenizer时，训练器使用的默认数据整理器将是前面定义的DataCollatorWithPadding，\n",
    "因此您可以跳过此调用中的data_collator=data_collator行。在第2节中向您展示这部分处理仍然很重要!\n",
    "为了在我们的数据集上微调模型，我们只需要调用train()方法即可:"
   ],
   "metadata": {
    "collapsed": false
   }
  },
  {
   "cell_type": "code",
   "execution_count": 8,
   "outputs": [
    {
     "name": "stderr",
     "output_type": "stream",
     "text": [
      "C:\\ProgramData\\anaconda3\\envs\\dlwpt\\lib\\site-packages\\transformers\\optimization.py:407: FutureWarning: This implementation of AdamW is deprecated and will be removed in a future version. Use the PyTorch implementation torch.optim.AdamW instead, or set `no_deprecation_warning=True` to disable this warning\n",
      "  warnings.warn(\n",
      "You're using a BertTokenizerFast tokenizer. Please note that with a fast tokenizer, using the `__call__` method is faster than using a method to encode the text followed by a call to the `pad` method to get a padded encoding.\n"
     ]
    },
    {
     "data": {
      "text/plain": "<IPython.core.display.HTML object>",
      "text/html": "\n    <div>\n      \n      <progress value='2' max='1377' style='width:300px; height:20px; vertical-align: middle;'></progress>\n      [   2/1377 : < :, Epoch 0.00/3]\n    </div>\n    <table border=\"1\" class=\"dataframe\">\n  <thead>\n <tr style=\"text-align: left;\">\n      <th>Step</th>\n      <th>Training Loss</th>\n    </tr>\n  </thead>\n  <tbody>\n  </tbody>\n</table><p>"
     },
     "metadata": {},
     "output_type": "display_data"
    },
    {
     "data": {
      "text/plain": "TrainOutput(global_step=1377, training_loss=0.29651290018141224, metrics={'train_runtime': 139.008, 'train_samples_per_second': 79.161, 'train_steps_per_second': 9.906, 'total_flos': 406183858377360.0, 'train_loss': 0.29651290018141224, 'epoch': 3.0})"
     },
     "execution_count": 8,
     "metadata": {},
     "output_type": "execute_result"
    }
   ],
   "source": [
    "trainer.train()"
   ],
   "metadata": {
    "collapsed": false,
    "ExecuteTime": {
     "end_time": "2023-05-31T05:52:27.631765400Z",
     "start_time": "2023-05-31T05:49:18.546997400Z"
    }
   }
  },
  {
   "cell_type": "markdown",
   "source": [
    "这将开始微调(在GPU上应该需要几分钟)，并每500步报告一次训练损失。然而，它不会告诉您模型的表现有多好(或多差)。这是因为:\n",
    "- 没有通过将evaluation_strategy设置为“steps”(评估每个eval_steps)或“epoch”(在每个epoch的末尾评估)来告诉Trainer在训练期间进行评估。\n",
    "- 没有为Trainer提供compute_metrics()函数，以便在上述求值期间计算指标(否则，求值只会打印损失，这不是一个非常直观的数字)。"
   ],
   "metadata": {
    "collapsed": false
   }
  },
  {
   "cell_type": "markdown",
   "source": [
    "### Evaluation"
   ],
   "metadata": {
    "collapsed": false
   }
  },
  {
   "cell_type": "markdown",
   "source": [
    "让我们看看如何构建一个有用的compute_metrics()函数，并在下次训练时使用它。该函数必须接受一个EvalPrediction对象(它是一个带有predictions和label_ids字段的tuple)，并将返回一个将字符串映射到浮点数的字典(字符串是返回的指标的名称，并且浮点它们的值)。\n",
    "为了从我们的模型中得到一些预测，我们可以使用Trainer.predict()命令:"
   ],
   "metadata": {
    "collapsed": false
   }
  },
  {
   "cell_type": "code",
   "execution_count": 9,
   "outputs": [
    {
     "data": {
      "text/plain": "<IPython.core.display.HTML object>",
      "text/html": "\n    <div>\n      \n      <progress value='1' max='51' style='width:300px; height:20px; vertical-align: middle;'></progress>\n      [ 1/51 : < :]\n    </div>\n    "
     },
     "metadata": {},
     "output_type": "display_data"
    },
    {
     "data": {
      "text/plain": "((408, 2), (408,))"
     },
     "execution_count": 9,
     "metadata": {},
     "output_type": "execute_result"
    }
   ],
   "source": [
    "predictions = trainer.predict(tokenized_datasets[\"validation\"])\n",
    "predictions.predictions.shape, predictions.label_ids.shape"
   ],
   "metadata": {
    "collapsed": false,
    "ExecuteTime": {
     "end_time": "2023-05-31T06:06:46.630041Z",
     "start_time": "2023-05-31T06:06:45.359794Z"
    }
   }
  },
  {
   "cell_type": "code",
   "execution_count": 10,
   "outputs": [
    {
     "data": {
      "text/plain": "PredictionOutput(predictions=array([[-3.8238406 ,  3.513597  ],\n       [ 3.064186  , -2.8706763 ],\n       [-3.160697  ,  2.9403021 ],\n       [-3.7238348 ,  3.5117645 ],\n       [ 3.0841463 , -2.8048441 ],\n       [-3.7747707 ,  3.5051389 ],\n       [-3.6928523 ,  3.3666382 ],\n       [-3.5853903 ,  3.3992593 ],\n       [-3.8030686 ,  3.510004  ],\n       [-3.8218102 ,  3.4889898 ],\n       [-3.8460193 ,  3.5379267 ],\n       [ 2.9890764 , -2.7416606 ],\n       [ 3.1132689 , -2.8708358 ],\n       [ 0.4085788 , -0.2915823 ],\n       [-3.7459266 ,  3.4022703 ],\n       [ 2.1240315 , -2.0164144 ],\n       [-3.8094642 ,  3.5345862 ],\n       [ 2.1404076 , -2.0221896 ],\n       [-3.8114698 ,  3.5280488 ],\n       [ 2.838272  , -2.6434863 ],\n       [ 3.1005507 , -2.819066  ],\n       [-3.388288  ,  3.241027  ],\n       [-1.7520449 ,  1.7444922 ],\n       [-3.7704413 ,  3.5159264 ],\n       [-3.5382295 ,  3.3722386 ],\n       [ 1.9723662 , -1.6837708 ],\n       [-2.9892032 ,  2.9504232 ],\n       [-3.8328378 ,  3.4961905 ],\n       [-3.75693   ,  3.4086187 ],\n       [-3.7344122 ,  3.4942539 ],\n       [-2.6157422 ,  2.6029124 ],\n       [-3.8227718 ,  3.5084982 ],\n       [-3.4926188 ,  3.2243247 ],\n       [-3.2429948 ,  3.0603397 ],\n       [-3.8043141 ,  3.5063212 ],\n       [-3.812083  ,  3.4193788 ],\n       [ 2.7297404 , -2.2843835 ],\n       [ 2.9657845 , -2.7444196 ],\n       [-3.3788538 ,  3.3400416 ],\n       [-3.8317544 ,  3.4859014 ],\n       [ 3.0524848 , -2.768586  ],\n       [-3.887206  ,  3.4238224 ],\n       [ 2.7823386 , -2.552872  ],\n       [ 2.88585   , -2.6783009 ],\n       [ 2.4516792 , -2.429761  ],\n       [-3.7657473 ,  3.510113  ],\n       [-3.7706032 ,  3.5181632 ],\n       [ 3.071005  , -2.78821   ],\n       [-3.7941153 ,  3.369108  ],\n       [-3.7674599 ,  3.4152308 ],\n       [-3.7123158 ,  3.4305096 ],\n       [-3.7688768 ,  3.505607  ],\n       [-3.7559514 ,  3.4934728 ],\n       [-3.7494283 ,  3.523222  ],\n       [-3.7475126 ,  3.5144951 ],\n       [-3.8076274 ,  3.4949946 ],\n       [ 1.8103004 , -1.8099827 ],\n       [-3.8238494 ,  3.4531534 ],\n       [-3.802353  ,  3.3652663 ],\n       [-3.7744584 ,  3.4694984 ],\n       [-3.750459  ,  3.5194578 ],\n       [-2.7154984 ,  2.6895025 ],\n       [-3.860548  ,  3.452873  ],\n       [-3.7236156 ,  3.3543365 ],\n       [-3.665105  ,  3.3508744 ],\n       [ 2.3511734 , -2.3701568 ],\n       [-3.833174  ,  3.5313964 ],\n       [-3.7940047 ,  3.4035633 ],\n       [ 2.3227406 , -2.1893194 ],\n       [-3.8672256 ,  3.4881513 ],\n       [-3.8381085 ,  3.4800863 ],\n       [-1.9210376 ,  2.184863  ],\n       [-3.8105068 ,  3.545693  ],\n       [-3.695406  ,  3.427351  ],\n       [-3.6513004 ,  3.2993164 ],\n       [-3.6218097 ,  3.4399858 ],\n       [-3.4573395 ,  3.0554898 ],\n       [-3.7971203 ,  3.492161  ],\n       [-3.8018858 ,  3.4475071 ],\n       [-3.8085957 ,  3.5161695 ],\n       [-3.0766964 ,  2.847358  ],\n       [-3.7924907 ,  3.4843948 ],\n       [-3.8539808 ,  3.4226665 ],\n       [ 2.9481413 , -2.6386795 ],\n       [-3.7275229 ,  3.4615183 ],\n       [-2.2018917 ,  1.9238842 ],\n       [-3.6710193 ,  3.4468164 ],\n       [ 3.0433352 , -2.8041377 ],\n       [-3.3129783 ,  2.928351  ],\n       [-3.788379  ,  3.5054502 ],\n       [-2.1144102 ,  2.3182406 ],\n       [-3.821394  ,  3.517936  ],\n       [-3.7958589 ,  3.4987597 ],\n       [-3.3637114 ,  3.2284129 ],\n       [-3.7602456 ,  3.5218983 ],\n       [-3.8471625 ,  3.5155728 ],\n       [ 2.9684503 , -2.6923702 ],\n       [-3.7500117 ,  3.506107  ],\n       [-3.6069148 ,  3.4463286 ],\n       [-3.659815  ,  3.4499032 ],\n       [-3.7615137 ,  3.4951546 ],\n       [-3.1383743 ,  3.072242  ],\n       [-3.5963616 ,  3.4746873 ],\n       [-3.8580916 ,  3.47641   ],\n       [ 1.4977785 , -1.426769  ],\n       [-3.8232715 ,  3.4099538 ],\n       [-2.813422  ,  2.891685  ],\n       [ 3.1158957 , -2.8567815 ],\n       [-1.9830565 ,  1.7205623 ],\n       [-3.730112  ,  3.425096  ],\n       [-3.099357  ,  2.9783998 ],\n       [-3.5652392 ,  3.403624  ],\n       [-3.7793047 ,  3.4962842 ],\n       [-3.8180046 ,  3.5170755 ],\n       [-3.6177354 ,  3.420451  ],\n       [ 2.3565483 , -1.904828  ],\n       [-3.77249   ,  3.5399356 ],\n       [-3.753545  ,  3.5045419 ],\n       [-3.7906387 ,  3.5320833 ],\n       [-3.8376513 ,  3.4981153 ],\n       [-3.8424513 ,  3.4962382 ],\n       [-2.924878  ,  2.787014  ],\n       [ 3.0997267 , -2.7338815 ],\n       [-3.845918  ,  3.4984486 ],\n       [-3.8047585 ,  3.515801  ],\n       [-3.8046706 ,  3.4210968 ],\n       [-3.790866  ,  3.5252259 ],\n       [ 3.120869  , -2.7994947 ],\n       [-3.7671995 ,  3.4879985 ],\n       [-3.858789  ,  3.453736  ],\n       [-3.1992607 ,  3.2677689 ],\n       [ 0.51351315, -0.38973495],\n       [-3.5669239 ,  3.3991156 ],\n       [ 0.23131321, -0.33570525],\n       [-3.7114036 ,  3.398439  ],\n       [-3.6720164 ,  3.348427  ],\n       [ 3.0108616 , -2.8069534 ],\n       [ 2.7700353 , -2.679952  ],\n       [-3.8461182 ,  3.4743202 ],\n       [-3.7258554 ,  3.4923332 ],\n       [-3.8087888 ,  3.4991364 ],\n       [-3.3373387 ,  3.289954  ],\n       [ 3.103976  , -2.8126829 ],\n       [-3.5466087 ,  3.0891333 ],\n       [-1.7780759 ,  1.3816632 ],\n       [-2.7310398 ,  2.7391732 ],\n       [-3.7819757 ,  3.5361574 ],\n       [-2.8196256 ,  2.3711092 ],\n       [ 2.7169402 , -2.5895586 ],\n       [-3.8044171 ,  3.4027185 ],\n       [ 2.9937901 , -2.7285662 ],\n       [-3.7384226 ,  3.5204558 ],\n       [-3.7249432 ,  3.325319  ],\n       [-3.8369336 ,  3.52963   ],\n       [ 2.2546103 , -1.9572431 ],\n       [-3.8412082 ,  3.4334972 ],\n       [-3.8617413 ,  3.4502878 ],\n       [-3.5475018 ,  3.324624  ],\n       [ 1.4067858 , -1.3275274 ],\n       [-3.4963458 ,  3.301715  ],\n       [-3.7202847 ,  3.5174797 ],\n       [-3.855289  ,  3.460204  ],\n       [-3.8314502 ,  3.5061302 ],\n       [-3.7877114 ,  3.502183  ],\n       [-3.59797   ,  3.2767477 ],\n       [-3.683286  ,  3.4183583 ],\n       [-3.5665617 ,  3.235737  ],\n       [ 3.0501928 , -2.6769369 ],\n       [-3.5528793 ,  3.30847   ],\n       [ 3.1139193 , -2.868094  ],\n       [-3.4661317 ,  3.1597154 ],\n       [ 2.5824451 , -2.3260489 ],\n       [-3.0796041 ,  3.172256  ],\n       [-3.710607  ,  3.4930148 ],\n       [-3.6743367 ,  3.3582983 ],\n       [-3.6926126 ,  3.381053  ],\n       [-3.696334  ,  3.5162702 ],\n       [ 3.0839162 , -2.8274398 ],\n       [-3.707743  ,  3.4951155 ],\n       [-3.8562725 ,  3.518595  ],\n       [-2.048245  ,  2.2188525 ],\n       [-3.646719  ,  3.4156115 ],\n       [-3.655493  ,  3.5066643 ],\n       [-3.6733422 ,  3.5058208 ],\n       [-3.3046577 ,  3.0489824 ],\n       [-3.1359506 ,  3.0720358 ],\n       [ 2.607399  , -2.201141  ],\n       [-2.9598334 ,  2.6707313 ],\n       [ 2.9721375 , -2.6079786 ],\n       [-3.5459917 ,  3.2585552 ],\n       [-3.8463748 ,  3.476728  ],\n       [ 2.905114  , -2.7051592 ],\n       [-3.164547  ,  2.936819  ],\n       [-3.7216804 ,  3.512204  ],\n       [-1.9844085 ,  2.0679526 ],\n       [-3.5370953 ,  3.4254236 ],\n       [-3.83622   ,  3.5033803 ],\n       [-2.8245506 ,  2.789655  ],\n       [-3.7764988 ,  3.4408815 ],\n       [-3.791455  ,  3.4974651 ],\n       [-3.2793036 ,  2.9058306 ],\n       [-3.5611866 ,  3.421184  ],\n       [-0.5541601 ,  0.34410155],\n       [-3.3043015 ,  3.2220218 ],\n       [-3.7500677 ,  3.5184925 ],\n       [ 2.8903809 , -2.780464  ],\n       [-3.7758715 ,  3.4388072 ],\n       [-3.3033943 ,  3.1849737 ],\n       [ 0.5714757 , -0.38080692],\n       [ 2.218864  , -1.8929979 ],\n       [ 2.6683981 , -2.3118284 ],\n       [-3.7591708 ,  3.4839287 ],\n       [-3.3706121 ,  2.9330964 ],\n       [ 1.8029017 , -1.5631261 ],\n       [-3.8059583 ,  3.4930806 ],\n       [-3.8242278 ,  3.5131881 ],\n       [-3.748358  ,  3.49568   ],\n       [-3.8093197 ,  3.5120232 ],\n       [ 3.0503824 , -2.881587  ],\n       [-3.8208451 ,  3.4843261 ],\n       [-3.4344652 ,  3.4105985 ],\n       [-3.5435877 ,  3.2392235 ],\n       [-3.8186567 ,  3.4408033 ],\n       [ 2.3892205 , -2.33264   ],\n       [-3.61869   ,  3.4668908 ],\n       [-3.6841161 ,  3.5056164 ],\n       [-3.8460329 ,  3.517683  ],\n       [-3.57099   ,  3.3790882 ],\n       [-3.7527006 ,  3.428146  ],\n       [-3.7970266 ,  3.429759  ],\n       [-3.786409  ,  3.5053306 ],\n       [-3.7561018 ,  3.5245686 ],\n       [-3.1555152 ,  2.7946212 ],\n       [ 2.9953504 , -2.7261767 ],\n       [-0.8723955 ,  1.226198  ],\n       [ 2.4628003 , -2.1813815 ],\n       [-0.05511948,  0.10701523],\n       [-2.5258543 ,  2.477845  ],\n       [-3.4192486 ,  3.2448635 ],\n       [-3.5583482 ,  3.2864482 ],\n       [-3.7475073 ,  3.4312036 ],\n       [ 3.087167  , -2.790311  ],\n       [-3.691656  ,  3.4312255 ],\n       [-3.7656326 ,  3.4934351 ],\n       [-3.8728802 ,  3.4378135 ],\n       [-3.799809  ,  3.5120153 ],\n       [-3.6735184 ,  3.4882388 ],\n       [-0.74745387,  0.7400498 ],\n       [-3.7431657 ,  3.427338  ],\n       [-3.4620225 ,  3.4254086 ],\n       [-3.8191805 ,  3.411326  ],\n       [ 2.1149547 , -2.0597308 ],\n       [ 1.9096513 , -1.834431  ],\n       [-3.3249006 ,  3.0236309 ],\n       [-0.46386427,  0.46423757],\n       [ 3.1324575 , -2.8829496 ],\n       [-3.4005184 ,  3.1949887 ],\n       [-3.752039  ,  3.4660678 ],\n       [-3.7735236 ,  3.462194  ],\n       [ 2.6198328 , -2.3385854 ],\n       [-3.7365077 ,  3.3333688 ],\n       [-3.6325104 ,  3.4789422 ],\n       [-3.5775087 ,  3.4362717 ],\n       [-3.792157  ,  3.46725   ],\n       [-3.1505492 ,  2.9861667 ],\n       [-3.479347  ,  3.189872  ],\n       [ 2.9465384 , -2.6546881 ],\n       [ 2.9408367 , -2.602314  ],\n       [ 2.4687834 , -2.2819216 ],\n       [-3.7849367 ,  3.3405585 ],\n       [ 2.8650985 , -2.5816367 ],\n       [-3.7726715 ,  3.4862754 ],\n       [-3.8399563 ,  3.5252774 ],\n       [-3.850161  ,  3.4672148 ],\n       [-3.8358955 ,  3.4838934 ],\n       [-3.727416  ,  3.4775667 ],\n       [-3.7226038 ,  3.3688152 ],\n       [-2.6213531 ,  2.4036298 ],\n       [-3.5467257 ,  3.1773417 ],\n       [ 3.0989666 , -2.8054118 ],\n       [-3.6478777 ,  3.1966105 ],\n       [-3.758692  ,  3.48261   ],\n       [-2.345219  ,  2.005515  ],\n       [ 2.8345125 , -2.592082  ],\n       [-0.48245695,  0.29219767],\n       [-3.7610233 ,  3.322472  ],\n       [-3.748781  ,  3.4863102 ],\n       [-3.411614  ,  3.334687  ],\n       [-3.8115523 ,  3.4471514 ],\n       [ 1.6552974 , -1.4649025 ],\n       [ 2.8006017 , -2.5017946 ],\n       [ 3.0697298 , -2.7600024 ],\n       [-3.821558  ,  3.4339726 ],\n       [-3.7011416 ,  3.478556  ],\n       [-3.616752  ,  3.438883  ],\n       [ 3.0384157 , -2.7409801 ],\n       [ 2.8232293 , -2.431406  ],\n       [-3.112703  ,  2.7952182 ],\n       [-3.7852137 ,  3.5173721 ],\n       [-3.6107006 ,  3.2360356 ],\n       [-3.8335776 ,  3.5309885 ],\n       [-3.7292438 ,  3.4866662 ],\n       [-3.7061372 ,  3.4702482 ],\n       [-0.01857148, -0.21933243],\n       [-3.5054228 ,  3.4238806 ],\n       [-3.8211527 ,  3.4588983 ],\n       [ 3.0369713 , -2.7836099 ],\n       [-3.791028  ,  3.4788465 ],\n       [-0.90907794,  0.95510924],\n       [-3.5470557 ,  3.2180123 ],\n       [-3.1225522 ,  3.0996144 ],\n       [-3.7526546 ,  3.52727   ],\n       [-2.9554603 ,  2.8703694 ],\n       [ 3.1299765 , -2.9132428 ],\n       [-3.8335638 ,  3.5110111 ],\n       [ 2.733685  , -2.3010566 ],\n       [-3.3107023 ,  3.1584327 ],\n       [-3.8335438 ,  3.508523  ],\n       [ 2.637979  , -2.5002697 ],\n       [ 2.8688905 , -2.5164282 ],\n       [ 2.841792  , -2.6177082 ],\n       [ 3.1863554 , -2.9141822 ],\n       [ 3.0645347 , -2.878746  ],\n       [-2.9257193 ,  2.9903839 ],\n       [ 2.9756067 , -2.7532454 ],\n       [-3.8187623 ,  3.5203228 ],\n       [-3.6151972 ,  3.5051122 ],\n       [-3.7392545 ,  3.5009382 ],\n       [-3.7130923 ,  3.4423034 ],\n       [-3.6378987 ,  3.3009546 ],\n       [-3.8030176 ,  3.5238712 ],\n       [-3.775914  ,  3.5048425 ],\n       [-1.99205   ,  1.9752693 ],\n       [-3.8047018 ,  3.4912717 ],\n       [-3.7448385 ,  3.5086348 ],\n       [-3.7671194 ,  3.4962244 ],\n       [-3.8253846 ,  3.4733868 ],\n       [-3.6501658 ,  3.5221853 ],\n       [ 2.873112  , -2.60007   ],\n       [-3.0598536 ,  2.883565  ],\n       [-3.8424833 ,  3.498883  ],\n       [-3.773401  ,  3.5073214 ],\n       [ 3.1506336 , -2.867099  ],\n       [-3.0593562 ,  2.9728425 ],\n       [-3.8018992 ,  3.5280812 ],\n       [-3.831859  ,  3.5310245 ],\n       [-3.8679044 ,  3.5061092 ],\n       [-3.6934192 ,  3.5052269 ],\n       [-3.0845761 ,  2.8831687 ],\n       [-3.7137544 ,  3.4360788 ],\n       [ 2.860077  , -2.6087017 ],\n       [-3.7953901 ,  3.4947062 ],\n       [-2.1443362 ,  2.1218684 ],\n       [-3.7658453 ,  3.458242  ],\n       [ 0.8558803 , -0.7830045 ],\n       [ 0.976308  , -0.84309065],\n       [-3.4528766 ,  3.260467  ],\n       [-2.9887252 ,  3.0158563 ],\n       [-3.8145814 ,  3.5228813 ],\n       [-3.7511911 ,  3.4642854 ],\n       [ 0.70229334, -0.7708498 ],\n       [-3.8681474 ,  3.4756217 ],\n       [-3.840588  ,  3.4890535 ],\n       [-2.7808905 ,  2.9392292 ],\n       [-3.8258934 ,  3.548629  ],\n       [-3.7633004 ,  3.5237083 ],\n       [-3.8314826 ,  3.5310445 ],\n       [-3.7244337 ,  3.4529805 ],\n       [ 2.0117462 , -1.7158664 ],\n       [ 3.05728   , -2.7426946 ],\n       [ 2.8411589 , -2.5825434 ],\n       [-3.814948  ,  3.5166373 ],\n       [ 0.4891942 , -0.42695886],\n       [-3.6312325 ,  3.4416707 ],\n       [ 3.0049891 , -2.5793145 ],\n       [-0.8885743 ,  1.0241307 ],\n       [-3.7204165 ,  3.322838  ],\n       [ 3.0407934 , -2.789403  ],\n       [-3.7609127 ,  3.495446  ],\n       [-3.7934737 ,  3.5196204 ],\n       [-3.762744  ,  3.3964548 ],\n       [-3.870383  ,  3.5335903 ],\n       [-3.528363  ,  3.2179847 ],\n       [-3.8095858 ,  3.5415459 ],\n       [-3.8303583 ,  3.490239  ],\n       [ 1.1611537 , -1.1181843 ],\n       [-3.8076146 ,  3.4664805 ],\n       [-1.5176172 ,  1.3996184 ],\n       [-3.8101754 ,  3.506728  ],\n       [-0.55029994,  0.5103317 ],\n       [-3.7929604 ,  3.54446   ],\n       [-3.2108846 ,  3.130523  ],\n       [-3.66871   ,  3.4505908 ],\n       [-3.836008  ,  3.431098  ],\n       [-3.7967627 ,  3.5294151 ],\n       [-3.7801101 ,  3.4856403 ],\n       [-3.8222218 ,  3.5161178 ],\n       [-3.218255  ,  2.97406   ],\n       [-3.103831  ,  2.7592154 ],\n       [-3.6399508 ,  3.529902  ],\n       [ 3.1138098 , -2.8775778 ],\n       [-3.8609693 ,  3.476173  ],\n       [-3.2845833 ,  2.8922844 ],\n       [ 3.0849233 , -2.7374053 ],\n       [-3.381767  ,  3.213803  ],\n       [-3.7560365 ,  3.5076442 ],\n       [ 2.2727551 , -2.1193554 ],\n       [-3.7420514 ,  3.4330611 ]], dtype=float32), label_ids=array([1, 0, 0, 1, 0, 1, 0, 1, 1, 1, 1, 0, 0, 1, 1, 1, 1, 0, 1, 0, 0, 1,\n       0, 1, 1, 1, 0, 1, 1, 1, 0, 1, 1, 1, 1, 0, 0, 0, 1, 1, 0, 1, 0, 0,\n       0, 1, 1, 0, 1, 1, 1, 1, 1, 1, 1, 1, 1, 1, 1, 1, 0, 1, 1, 1, 1, 0,\n       1, 1, 0, 1, 1, 1, 1, 1, 1, 1, 0, 1, 1, 1, 0, 1, 1, 0, 1, 0, 1, 0,\n       1, 1, 0, 1, 1, 0, 1, 1, 0, 1, 1, 1, 1, 1, 1, 1, 0, 1, 1, 0, 0, 1,\n       1, 1, 1, 1, 0, 0, 1, 1, 1, 1, 1, 1, 0, 1, 1, 1, 1, 0, 1, 1, 1, 0,\n       1, 0, 1, 1, 0, 0, 1, 0, 1, 0, 0, 1, 0, 0, 1, 1, 1, 1, 0, 1, 1, 1,\n       1, 1, 1, 0, 0, 1, 1, 1, 1, 1, 1, 1, 1, 0, 1, 0, 0, 1, 1, 1, 0, 1,\n       1, 0, 1, 1, 0, 0, 1, 1, 0, 1, 0, 1, 0, 1, 1, 0, 1, 1, 0, 1, 1, 0,\n       1, 1, 1, 0, 1, 1, 1, 0, 1, 1, 1, 0, 0, 1, 1, 0, 1, 1, 1, 1, 0, 1,\n       1, 1, 1, 0, 1, 1, 1, 1, 1, 1, 1, 1, 1, 1, 1, 0, 1, 0, 1, 0, 1, 0,\n       1, 1, 1, 1, 1, 0, 1, 1, 1, 0, 1, 0, 1, 0, 1, 1, 1, 0, 1, 0, 1, 1,\n       0, 1, 1, 0, 0, 1, 0, 1, 1, 1, 1, 1, 1, 1, 1, 0, 1, 1, 1, 0, 0, 1,\n       1, 1, 1, 1, 1, 0, 1, 1, 1, 0, 0, 0, 1, 1, 1, 1, 1, 1, 1, 1, 0, 1,\n       0, 0, 0, 1, 1, 0, 1, 0, 1, 1, 0, 0, 0, 0, 0, 1, 0, 1, 0, 1, 1, 1,\n       1, 1, 0, 1, 1, 1, 1, 0, 0, 1, 1, 1, 0, 0, 1, 1, 1, 1, 0, 1, 0, 1,\n       0, 1, 0, 0, 1, 1, 1, 1, 0, 1, 1, 0, 1, 1, 0, 1, 0, 0, 1, 1, 1, 1,\n       0, 0, 0, 0, 1, 1, 1, 1, 0, 1, 1, 0, 1, 0, 1, 1, 1, 1, 1, 1, 1, 1,\n       1, 1, 1, 1, 0, 1, 1, 0, 1, 1, 0, 1], dtype=int64), metrics={'test_loss': 0.8410013914108276, 'test_runtime': 1.2605, 'test_samples_per_second': 323.684, 'test_steps_per_second': 40.461})"
     },
     "execution_count": 10,
     "metadata": {},
     "output_type": "execute_result"
    }
   ],
   "source": [
    "predictions"
   ],
   "metadata": {
    "collapsed": false,
    "ExecuteTime": {
     "end_time": "2023-05-31T06:07:00.097795800Z",
     "start_time": "2023-05-31T06:07:00.076836800Z"
    }
   }
  },
  {
   "cell_type": "markdown",
   "source": [
    "predict()方法的输出是另一个元组，包含三个字段:predictions、label_ids和metrics。metrics字段将只包含传递的数据集上的损失，以及一些时间指标(预测所需的时间，总数和平均时间)。将函数compute_metrics传递给Trainer之后，该字段还将包含compute_metrics()返回的指标。"
   ],
   "metadata": {
    "collapsed": false
   }
  },
  {
   "cell_type": "markdown",
   "source": [
    "正如您所看到的，predictions是一个形状为408 x 2的二维数组(408是我们使用的数据集中元素的数量)。这些是我们传递给predict()的数据集的每个元素的logits(正如您在前一章中看到的，所有Transformer模型都返回logits)。为了将它们转换为可以与标签进行对比的预测值，我们需要在第二个轴上取最大值的索引:"
   ],
   "metadata": {
    "collapsed": false
   }
  },
  {
   "cell_type": "code",
   "execution_count": 11,
   "outputs": [
    {
     "data": {
      "text/plain": "array([1, 0, 1, 1, 0, 1, 1, 1, 1, 1, 1, 0, 0, 0, 1, 0, 1, 0, 1, 0, 0, 1,\n       1, 1, 1, 0, 1, 1, 1, 1, 1, 1, 1, 1, 1, 1, 0, 0, 1, 1, 0, 1, 0, 0,\n       0, 1, 1, 0, 1, 1, 1, 1, 1, 1, 1, 1, 0, 1, 1, 1, 1, 1, 1, 1, 1, 0,\n       1, 1, 0, 1, 1, 1, 1, 1, 1, 1, 1, 1, 1, 1, 1, 1, 1, 0, 1, 1, 1, 0,\n       1, 1, 1, 1, 1, 1, 1, 1, 0, 1, 1, 1, 1, 1, 1, 1, 0, 1, 1, 0, 1, 1,\n       1, 1, 1, 1, 1, 0, 1, 1, 1, 1, 1, 1, 0, 1, 1, 1, 1, 0, 1, 1, 1, 0,\n       1, 0, 1, 1, 0, 0, 1, 1, 1, 1, 0, 1, 1, 1, 1, 1, 0, 1, 0, 1, 1, 1,\n       0, 1, 1, 1, 0, 1, 1, 1, 1, 1, 1, 1, 1, 0, 1, 0, 1, 0, 1, 1, 1, 1,\n       1, 0, 1, 1, 1, 1, 1, 1, 1, 1, 0, 1, 0, 1, 1, 0, 1, 1, 1, 1, 1, 1,\n       1, 1, 1, 1, 1, 1, 1, 0, 1, 1, 0, 0, 0, 1, 1, 0, 1, 1, 1, 1, 0, 1,\n       1, 1, 1, 0, 1, 1, 1, 1, 1, 1, 1, 1, 1, 0, 1, 0, 1, 1, 1, 1, 1, 0,\n       1, 1, 1, 1, 1, 1, 1, 1, 1, 0, 0, 1, 1, 0, 1, 1, 1, 0, 1, 1, 1, 1,\n       1, 1, 0, 0, 0, 1, 0, 1, 1, 1, 1, 1, 1, 1, 1, 0, 1, 1, 1, 0, 1, 1,\n       1, 1, 1, 0, 0, 0, 1, 1, 1, 0, 0, 1, 1, 1, 1, 1, 1, 0, 1, 1, 0, 1,\n       1, 1, 1, 1, 1, 0, 1, 0, 1, 1, 0, 0, 0, 0, 0, 1, 0, 1, 1, 1, 1, 1,\n       1, 1, 1, 1, 1, 1, 1, 1, 0, 1, 1, 1, 0, 1, 1, 1, 1, 1, 1, 1, 0, 1,\n       1, 1, 0, 0, 1, 1, 1, 1, 0, 1, 1, 1, 1, 1, 1, 1, 0, 0, 0, 1, 0, 1,\n       0, 1, 1, 0, 1, 1, 1, 1, 1, 1, 1, 0, 1, 1, 1, 1, 1, 1, 1, 1, 1, 1,\n       1, 1, 1, 1, 0, 1, 1, 0, 1, 1, 0, 1], dtype=int64)"
     },
     "execution_count": 11,
     "metadata": {},
     "output_type": "execute_result"
    }
   ],
   "source": [
    "preds = np.argmax(predictions.predictions, axis=-1)\n",
    "preds"
   ],
   "metadata": {
    "collapsed": false,
    "ExecuteTime": {
     "end_time": "2023-05-31T06:08:22.689823600Z",
     "start_time": "2023-05-31T06:08:22.656216300Z"
    }
   }
  },
  {
   "cell_type": "markdown",
   "source": [
    "现在我们可以将这些数据与标签进行比较。要构建compute_metric()函数，我们需要依赖Evaluate库中的指标。\n",
    "我们可以像加载数据集一样轻松地加载与MRPC数据集相关的指标，这次使用evaluate.load()函数，返回的对象有一个compute()方法，可以使用它来进行度量计算:"
   ],
   "metadata": {
    "collapsed": false
   }
  },
  {
   "cell_type": "code",
   "execution_count": 12,
   "outputs": [
    {
     "data": {
      "text/plain": "{'accuracy': 0.8382352941176471, 'f1': 0.8885135135135136}"
     },
     "execution_count": 12,
     "metadata": {},
     "output_type": "execute_result"
    }
   ],
   "source": [
    "import evaluate\n",
    "\n",
    "metric = evaluate.load(\"glue\", \"mrpc\")\n",
    "metric.compute(predictions=preds, references=predictions.label_ids)"
   ],
   "metadata": {
    "collapsed": false,
    "ExecuteTime": {
     "end_time": "2023-05-31T06:10:27.841964500Z",
     "start_time": "2023-05-31T06:10:26.091688700Z"
    }
   }
  },
  {
   "cell_type": "markdown",
   "source": [
    "您得到的确切结果可能会有所不同，因为模型头的随机初始化可能会改变它所实现的度量。在这里，我们可以看到我们的模型在验证集上的准确率为85.78%，F1分数为89.97。\n",
    "这是用于评估GLUE基准的MRPC数据集上的结果的两个度量。BERT论文中的表格报告了基础模型的F1得分为88.9。这是我们目前使用的uncase模型，它解释了更好的结果。\n",
    "将所有内容放在一起，我们得到了compute_metrics()函数:"
   ],
   "metadata": {
    "collapsed": false
   }
  },
  {
   "cell_type": "code",
   "execution_count": 13,
   "outputs": [],
   "source": [
    "def compute_metrics(eval_preds):\n",
    "    metric = evaluate.load(\"glue\", \"mrpc\")\n",
    "    logits, labels = eval_preds\n",
    "    predictions = np.argmax(logits, axis=-1)\n",
    "    return metric.compute(predictions=predictions, references=labels)"
   ],
   "metadata": {
    "collapsed": false,
    "ExecuteTime": {
     "end_time": "2023-05-31T06:10:50.339794100Z",
     "start_time": "2023-05-31T06:10:50.314726600Z"
    }
   }
  },
  {
   "cell_type": "code",
   "execution_count": 14,
   "outputs": [
    {
     "name": "stderr",
     "output_type": "stream",
     "text": [
      "Some weights of the model checkpoint at bert-base-uncased were not used when initializing BertForSequenceClassification: ['cls.predictions.transform.LayerNorm.weight', 'cls.seq_relationship.weight', 'cls.predictions.transform.dense.weight', 'cls.predictions.bias', 'cls.predictions.decoder.weight', 'cls.seq_relationship.bias', 'cls.predictions.transform.dense.bias', 'cls.predictions.transform.LayerNorm.bias']\n",
      "- This IS expected if you are initializing BertForSequenceClassification from the checkpoint of a model trained on another task or with another architecture (e.g. initializing a BertForSequenceClassification model from a BertForPreTraining model).\n",
      "- This IS NOT expected if you are initializing BertForSequenceClassification from the checkpoint of a model that you expect to be exactly identical (initializing a BertForSequenceClassification model from a BertForSequenceClassification model).\n",
      "Some weights of BertForSequenceClassification were not initialized from the model checkpoint at bert-base-uncased and are newly initialized: ['classifier.bias', 'classifier.weight']\n",
      "You should probably TRAIN this model on a down-stream task to be able to use it for predictions and inference.\n"
     ]
    }
   ],
   "source": [
    "training_args = TrainingArguments(\"test-trainer\", evaluation_strategy=\"epoch\")\n",
    "model = AutoModelForSequenceClassification.from_pretrained(checkpoint, num_labels=2)\n",
    "\n",
    "trainer = Trainer(\n",
    "    model,\n",
    "    training_args,\n",
    "    train_dataset=tokenized_datasets[\"train\"],\n",
    "    eval_dataset=tokenized_datasets[\"validation\"],\n",
    "    data_collator=data_collator,\n",
    "    tokenizer=tokenizer,\n",
    "    compute_metrics=compute_metrics,\n",
    ")"
   ],
   "metadata": {
    "collapsed": false,
    "ExecuteTime": {
     "end_time": "2023-05-31T06:10:53.795879900Z",
     "start_time": "2023-05-31T06:10:52.235400300Z"
    }
   }
  },
  {
   "cell_type": "markdown",
   "source": [
    "请注意，我们创建了一个新的TrainingArguments，其evaluation_strategy设置为“epoch”，并创建了一个新模型——否则，我们只是在继续训练我们已经训练过的模型。\n",
    "开始新的训练:"
   ],
   "metadata": {
    "collapsed": false
   }
  },
  {
   "cell_type": "code",
   "execution_count": 15,
   "outputs": [
    {
     "name": "stderr",
     "output_type": "stream",
     "text": [
      "C:\\ProgramData\\anaconda3\\envs\\dlwpt\\lib\\site-packages\\transformers\\optimization.py:407: FutureWarning: This implementation of AdamW is deprecated and will be removed in a future version. Use the PyTorch implementation torch.optim.AdamW instead, or set `no_deprecation_warning=True` to disable this warning\n",
      "  warnings.warn(\n"
     ]
    },
    {
     "data": {
      "text/plain": "<IPython.core.display.HTML object>",
      "text/html": "\n    <div>\n      \n      <progress value='2' max='1377' style='width:300px; height:20px; vertical-align: middle;'></progress>\n      [   2/1377 : < :, Epoch 0.00/3]\n    </div>\n    <table border=\"1\" class=\"dataframe\">\n  <thead>\n <tr style=\"text-align: left;\">\n      <th>Epoch</th>\n      <th>Training Loss</th>\n      <th>Validation Loss</th>\n    </tr>\n  </thead>\n  <tbody>\n  </tbody>\n</table><p>"
     },
     "metadata": {},
     "output_type": "display_data"
    },
    {
     "data": {
      "text/plain": "TrainOutput(global_step=1377, training_loss=0.3202050152946921, metrics={'train_runtime': 142.9423, 'train_samples_per_second': 76.982, 'train_steps_per_second': 9.633, 'total_flos': 406183858377360.0, 'train_loss': 0.3202050152946921, 'epoch': 3.0})"
     },
     "execution_count": 15,
     "metadata": {},
     "output_type": "execute_result"
    }
   ],
   "source": [
    "trainer.train()"
   ],
   "metadata": {
    "collapsed": false,
    "ExecuteTime": {
     "end_time": "2023-05-31T06:13:19.840660500Z",
     "start_time": "2023-05-31T06:10:56.865699Z"
    }
   }
  },
  {
   "cell_type": "markdown",
   "source": [
    "这一次，每个epoch结束时，在training loss顶部报告validation loss 和 metrics。\n",
    "同样，由于模型的随机头部初始化，您达到的准确精度/F1分数可能与我们发现的略有不同，但它应该在相同的范围内。"
   ],
   "metadata": {
    "collapsed": false
   }
  },
  {
   "cell_type": "markdown",
   "source": [
    "Trainer将在多个gpu或tpu上开箱即用，并提供许多选项，如混合精度训练(在训练参数中使用fp16 = True)。我们将在第10章讨论它支持的所有内容。\n",
    "本文结束了对使用Trainer API进行微调的介绍。对于大多数常见的NLP任务，将在第7章给出一个这样做的例子，但是现在让我们看看如何在纯PyTorch中做同样的事情。"
   ],
   "metadata": {
    "collapsed": false
   }
  }
 ],
 "metadata": {
  "kernelspec": {
   "display_name": "Python (dlwpt)",
   "language": "python",
   "name": "dl"
  },
  "language_info": {
   "codemirror_mode": {
    "name": "ipython",
    "version": 3
   },
   "file_extension": ".py",
   "mimetype": "text/x-python",
   "name": "python",
   "nbconvert_exporter": "python",
   "pygments_lexer": "ipython3",
   "version": "3.8.15"
  }
 },
 "nbformat": 4,
 "nbformat_minor": 5
}
