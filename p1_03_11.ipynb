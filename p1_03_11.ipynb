{
 "cells": [
  {
   "cell_type": "markdown",
   "id": "6f0441a2",
   "metadata": {},
   "source": [
    "#### 3.5.2 A dtype for every occasion"
   ]
  },
  {
   "cell_type": "markdown",
   "id": "3dd8021b",
   "metadata": {},
   "source": [
    "我们将在以后的章节中看到，神经网络中的计算通常以32位浮点精度执行。更高的精度，比如64位，并不会提高模型的准确性，反而会消耗更多的内存和时间。标准cpu中没有原生的16位浮点半精度数据类型，但在现代gpu上提供了它。如果需要的话，可以切换到半精度16位浮点类型来减少神经网络模型的占用的空间，且其对精度的影响很小。"
   ]
  }
 ],
 "metadata": {
  "kernelspec": {
   "display_name": "Python (dlwpt)",
   "language": "python",
   "name": "dl"
  },
  "language_info": {
   "codemirror_mode": {
    "name": "ipython",
    "version": 3
   },
   "file_extension": ".py",
   "mimetype": "text/x-python",
   "name": "python",
   "nbconvert_exporter": "python",
   "pygments_lexer": "ipython3",
   "version": "3.8.15"
  }
 },
 "nbformat": 4,
 "nbformat_minor": 5
}
